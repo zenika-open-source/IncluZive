{
 "cells": [
  {
   "cell_type": "code",
   "execution_count": 298,
   "metadata": {},
   "outputs": [],
   "source": [
    "import re"
   ]
  },
  {
   "cell_type": "code",
   "execution_count": 299,
   "metadata": {},
   "outputs": [],
   "source": [
    "line=\"Passionnée par le développement, Emma Louise s'est installée à Paris. Son adresse mail est emma.louise@google.com, son compte linkedin est https://www.linkedin.com/in/el-424781150/ et elle est joignable sur +33(0)987609876. Elle a 26 ans vu qu'elle est née le 16/11/1994, elle est mariée et a 2 enfants. Son numéro de sécurité sociale 2 94 11 99 205 148. Son sexe est Féminin (F) . Elle a été diplômée en 11/11/2018, à l'issue d'une formation de 5 ans d'ingénierie de 2013 à 2018 à l'Ecole Polytechnique à Palaiseau. \""
   ]
  },
  {
   "cell_type": "code",
   "execution_count": 300,
   "metadata": {},
   "outputs": [],
   "source": [
    "def extract_email(line) :\n",
    "    line = re.sub(r'[\\w\\.-]+@[\\w\\.-]+', \"[redacted_email]\", line)\n",
    "    return line "
   ]
  },
  {
   "cell_type": "code",
   "execution_count": 301,
   "metadata": {},
   "outputs": [],
   "source": [
    "def extract_date(line) :\n",
    "    line = re.sub('(0[1-9]|[12][0-9]|3[01])[- /.](0[1-9]|1[012])[- /.](19|20)\\d\\d', \"[redacted_date]\", line)\n",
    "    return line "
   ]
  },
  {
   "cell_type": "code",
   "execution_count": 302,
   "metadata": {},
   "outputs": [],
   "source": [
    "def extract_num_so_sec(line) :\n",
    "    line = re.sub(r'\\d\\s*\\d{2}\\s*\\d{2}\\s*\\d{2}\\s*\\d{3}\\s*\\d{3}', \"[redacted_num_sec_so]\", line)\n",
    "    return line"
   ]
  },
  {
   "cell_type": "code",
   "execution_count": 303,
   "metadata": {},
   "outputs": [],
   "source": [
    "def extract_single_date(line) :\n",
    "    line = re.sub(r' [0-9][0-9][0-9][0-9] ', \"[redacted_s_date]\", line)\n",
    "    return line"
   ]
  },
  {
   "cell_type": "code",
   "execution_count": 304,
   "metadata": {},
   "outputs": [],
   "source": [
    "def extract_time_period(line) :\n",
    "    line = re.sub(r'\\s*([0-99\\s-]*?)\\s*(ans|mois)', \"[redacted_time_period]\", line)\n",
    "    return line"
   ]
  },
  {
   "cell_type": "code",
   "execution_count": 305,
   "metadata": {},
   "outputs": [],
   "source": [
    "def extract_enfants(line) :\n",
    "    line = re.sub(r'\\s*([0-99\\s]*?)\\s*enfants', \"[redacted_enfants]\", line)\n",
    "    return line"
   ]
  },
  {
   "cell_type": "code",
   "execution_count": 306,
   "metadata": {},
   "outputs": [],
   "source": [
    "def extract_sit_fam(line) :\n",
    "    line = re.sub(r'mariée|marié|pacsée|pacsé|divorcée|divorcé|séparée|séparé|célibataire', \"[redacted_sit_fam]\", line)\n",
    "    return line"
   ]
  },
  {
   "cell_type": "code",
   "execution_count": 307,
   "metadata": {},
   "outputs": [],
   "source": [
    "def extract_sexe(line) :\n",
    "    line = re.sub(r'((\\s)(\\()*(Féminin)(\\))*(\\s))|((\\s)(\\()*(Masculin)(\\))*(\\s))', \"[redacted_sexe]\", line)\n",
    "    return line"
   ]
  },
  {
   "cell_type": "code",
   "execution_count": 308,
   "metadata": {},
   "outputs": [],
   "source": [
    "def extract_sexe_abrev(line) :\n",
    "    line = re.sub(r'((\\s)(\\()*(F)(\\))*(\\s))|((\\s)(\\()*(M)(\\))*(\\s))', \" [redacted_sexe_abrev]\", line)\n",
    "    return line"
   ]
  },
  {
   "cell_type": "code",
   "execution_count": 309,
   "metadata": {},
   "outputs": [],
   "source": [
    "def extract_tel(line) :\n",
    "    line = re.sub(r'\\s\\+*\\d{2,4}\\(*\\d\\)*\\d{6,9}', \" [redacted_tel]\", line)\n",
    "    return line"
   ]
  },
  {
   "cell_type": "code",
   "execution_count": 310,
   "metadata": {},
   "outputs": [],
   "source": [
    "def extract_url(line) :\n",
    "    line = re.sub(r'(?P<url>https?://[^\\s]+)', \"[redacted_url]\", line)\n",
    "    return line"
   ]
  },
  {
   "cell_type": "code",
   "execution_count": 311,
   "metadata": {},
   "outputs": [
    {
     "data": {
      "text/plain": [
       "\"Passionnée par le développement, Emma Louise s'est installée à Paris. Son adresse mail est [redacted_email], son compte linkedin est [redacted_url] et elle est joignable sur [redacted_tel]. Elle a[redacted_time_period] vu qu'elle est née le [redacted_date], elle est [redacted_sit_fam] et a[redacted_enfants]. Son numéro de sécurité sociale [redacted_num_sec_so]. Son sexe est[redacted_sexe][redacted_sexe_abrev]. Elle a été diplômée en [redacted_date], à l'issue d'une formation de[redacted_time_period] d'ingénierie de[redacted_s_date]à[redacted_s_date]à l'Ecole Polytechnique à Palaiseau. \""
      ]
     },
     "execution_count": 311,
     "metadata": {},
     "output_type": "execute_result"
    }
   ],
   "source": [
    "extract_email(extract_date(extract_num_so_sec(extract_single_date(extract_time_period(extract_enfants(extract_sit_fam(extract_sexe(extract_sexe_abrev(extract_url(extract_tel(line)))))))))))"
   ]
  }
 ],
 "metadata": {
  "kernelspec": {
   "display_name": "Python 3",
   "language": "python",
   "name": "python3"
  },
  "language_info": {
   "codemirror_mode": {
    "name": "ipython",
    "version": 3
   },
   "file_extension": ".py",
   "mimetype": "text/x-python",
   "name": "python",
   "nbconvert_exporter": "python",
   "pygments_lexer": "ipython3",
   "version": "3.7.9"
  }
 },
 "nbformat": 4,
 "nbformat_minor": 4
}
