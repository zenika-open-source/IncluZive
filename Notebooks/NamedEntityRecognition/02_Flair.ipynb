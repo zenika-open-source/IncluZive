{
 "cells": [
  {
   "cell_type": "markdown",
   "metadata": {},
   "source": [
    "# Importation des librairies"
   ]
  },
  {
   "cell_type": "code",
   "execution_count": 117,
   "metadata": {},
   "outputs": [],
   "source": [
    "from flair.data import Sentence\n",
    "from flair.models import SequenceTagger"
   ]
  },
  {
   "cell_type": "markdown",
   "metadata": {},
   "source": [
    "# 1) Exemple en anglais"
   ]
  },
  {
   "cell_type": "code",
   "execution_count": 118,
   "metadata": {},
   "outputs": [],
   "source": [
    "# make a sentence\n",
    "sentence = Sentence('I love Berlin .')"
   ]
  },
  {
   "cell_type": "code",
   "execution_count": 119,
   "metadata": {},
   "outputs": [
    {
     "name": "stdout",
     "output_type": "stream",
     "text": [
      "2020-11-22 20:14:31,006 loading file C:\\Users\\Amal\\.flair\\models\\en-ner-conll03-v0.4.pt\n"
     ]
    }
   ],
   "source": [
    "# load the NER tagger\n",
    "tagger = SequenceTagger.load('ner')"
   ]
  },
  {
   "cell_type": "code",
   "execution_count": 120,
   "metadata": {},
   "outputs": [],
   "source": [
    "# run NER over sentence\n",
    "tagger.predict(sentence)"
   ]
  },
  {
   "cell_type": "code",
   "execution_count": 121,
   "metadata": {},
   "outputs": [
    {
     "name": "stdout",
     "output_type": "stream",
     "text": [
      "Sentence: \"I love Berlin .\"   [− Tokens: 4  − Token-Labels: \"I love Berlin <S-LOC> .\"]\n"
     ]
    }
   ],
   "source": [
    "print(sentence)"
   ]
  },
  {
   "cell_type": "code",
   "execution_count": 122,
   "metadata": {},
   "outputs": [
    {
     "name": "stdout",
     "output_type": "stream",
     "text": [
      "The following NER tags are found:\n",
      "Span [3]: \"Berlin\"   [− Labels: LOC (0.9992)]\n"
     ]
    }
   ],
   "source": [
    "print('The following NER tags are found:')\n",
    "# iterate over entities and print\n",
    "for entity in sentence.get_spans('ner'):\n",
    "    print(entity)"
   ]
  },
  {
   "cell_type": "markdown",
   "metadata": {},
   "source": [
    "# 2) Exemple en français"
   ]
  },
  {
   "cell_type": "code",
   "execution_count": 123,
   "metadata": {},
   "outputs": [],
   "source": [
    "# make a sentence\n",
    "sentence = Sentence(\"Emma Louise s'est installée à Paris mais elle est née en 2007 à Montreal et elle est joignable sur 06660006.\")"
   ]
  },
  {
   "cell_type": "code",
   "execution_count": 124,
   "metadata": {},
   "outputs": [
    {
     "name": "stdout",
     "output_type": "stream",
     "text": [
      "2020-11-22 20:14:32,723 loading file C:\\Users\\Amal\\.flair\\models\\en-ner-conll03-v0.4.pt\n"
     ]
    }
   ],
   "source": [
    "# load the NER tagger\n",
    "tagger = SequenceTagger.load('ner')"
   ]
  },
  {
   "cell_type": "code",
   "execution_count": 125,
   "metadata": {},
   "outputs": [],
   "source": [
    "# run NER over sentence\n",
    "tagger.predict(sentence)"
   ]
  },
  {
   "cell_type": "code",
   "execution_count": 126,
   "metadata": {},
   "outputs": [
    {
     "name": "stdout",
     "output_type": "stream",
     "text": [
      "Sentence: \"Emma Louise s'est installée à Paris mais elle est née en 2007 à Montreal et elle est joignable sur 06660006 .\"   [− Tokens: 21  − Token-Labels: \"Emma <B-PER> Louise <E-PER> s'est installée à Paris <S-LOC> mais elle est née en 2007 à Montreal <S-LOC> et elle est joignable sur 06660006 .\"]\n"
     ]
    }
   ],
   "source": [
    "\n",
    "print(sentence)"
   ]
  },
  {
   "cell_type": "code",
   "execution_count": 127,
   "metadata": {},
   "outputs": [
    {
     "name": "stdout",
     "output_type": "stream",
     "text": [
      "The following NER tags are found:\n",
      "Span [1,2]: \"Emma Louise\"   [− Labels: PER (0.9951)]\n",
      "Span [6]: \"Paris\"   [− Labels: LOC (0.9963)]\n",
      "Span [14]: \"Montreal\"   [− Labels: LOC (0.9492)]\n"
     ]
    }
   ],
   "source": [
    "print('The following NER tags are found:')\n",
    "# iterate over entities and print\n",
    "for entity in sentence.get_spans('ner'):\n",
    "    print(entity)"
   ]
  },
  {
   "cell_type": "code",
   "execution_count": 128,
   "metadata": {},
   "outputs": [
    {
     "name": "stdout",
     "output_type": "stream",
     "text": [
      "The following NER tags are found:\n",
      "{'text': 'Emma Louise', 'start_pos': 0, 'end_pos': 11, 'labels': [PER (0.9951)]}\n",
      "{'text': 'Paris', 'start_pos': 30, 'end_pos': 35, 'labels': [LOC (0.9963)]}\n",
      "{'text': 'Montreal', 'start_pos': 64, 'end_pos': 72, 'labels': [LOC (0.9492)]}\n"
     ]
    }
   ],
   "source": [
    "print('The following NER tags are found:')\n",
    "# iterate over entities and print\n",
    "for entity in sentence.get_spans('ner'):\n",
    "    print(entity.to_dict())"
   ]
  },
  {
   "cell_type": "code",
   "execution_count": 129,
   "metadata": {},
   "outputs": [
    {
     "name": "stdout",
     "output_type": "stream",
     "text": [
      "The confidence of prediction of each span:\n",
      "{'value': 'PER', 'confidence': 0.9951348602771759}\n",
      "{'value': 'LOC', 'confidence': 0.9963131546974182}\n",
      "{'value': 'LOC', 'confidence': 0.9492300748825073}\n"
     ]
    }
   ],
   "source": [
    "i = 0\n",
    "print('The confidence of prediction of each span:')\n",
    "while i < len(sentence.get_spans('ner')):\n",
    "    print(sentence.get_spans('ner')[i].labels[0].to_dict())\n",
    "    i += 1"
   ]
  },
  {
   "cell_type": "code",
   "execution_count": null,
   "metadata": {},
   "outputs": [],
   "source": []
  }
 ],
 "metadata": {
  "kernelspec": {
   "display_name": "Python 3",
   "language": "python",
   "name": "python3"
  },
  "language_info": {
   "codemirror_mode": {
    "name": "ipython",
    "version": 3
   },
   "file_extension": ".py",
   "mimetype": "text/x-python",
   "name": "python",
   "nbconvert_exporter": "python",
   "pygments_lexer": "ipython3",
   "version": "3.8.5"
  }
 },
 "nbformat": 4,
 "nbformat_minor": 4
}
