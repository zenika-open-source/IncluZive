{
 "cells": [
  {
   "cell_type": "markdown",
   "metadata": {},
   "source": [
    "## CamemBERT"
   ]
  },
  {
   "cell_type": "code",
   "execution_count": 83,
   "metadata": {},
   "outputs": [],
   "source": [
    "from transformers import CamembertTokenizer, CamembertForTokenClassification\n",
    "from transformers import pipeline"
   ]
  },
  {
   "cell_type": "code",
   "execution_count": 84,
   "metadata": {},
   "outputs": [],
   "source": [
    "tokenizer = CamembertTokenizer.from_pretrained(\"gilf/french-camembert-postag-model\")\n",
    "\n",
    "model = CamembertForTokenClassification.from_pretrained(\"gilf/french-camembert-postag-model\")"
   ]
  },
  {
   "cell_type": "code",
   "execution_count": 85,
   "metadata": {},
   "outputs": [
    {
     "name": "stderr",
     "output_type": "stream",
     "text": [
      "Asking to truncate to max_length but no maximum length is provided and the model has no predefined maximum length. Default to no truncation.\n"
     ]
    },
    {
     "data": {
      "text/plain": [
       "[{'entity_group': 'NPP', 'score': 0.997456818819046, 'word': 'Emma Louise'},\n",
       " {'entity_group': 'PONCT', 'score': 0.5417522192001343, 'word': ','},\n",
       " {'entity_group': 'ADJ', 'score': 0.8075023293495178, 'word': '26'},\n",
       " {'entity_group': 'NC', 'score': 0.9991540312767029, 'word': 'rue'},\n",
       " {'entity_group': 'NPP', 'score': 0.9982922077178955, 'word': 'Alexandre'},\n",
       " {'entity_group': 'PONCT', 'score': 0.7300308346748352, 'word': ','},\n",
       " {'entity_group': 'ADJ', 'score': 0.634022057056427, 'word': '750'},\n",
       " {'entity_group': 'DET', 'score': 0.4953150451183319, 'word': '05'},\n",
       " {'entity_group': 'NPP', 'score': 0.9984453320503235, 'word': 'Paris'},\n",
       " {'entity_group': 'P', 'score': 0.45102745294570923, 'word': ','},\n",
       " {'entity_group': 'NPP', 'score': 0.9979045391082764, 'word': 'France'},\n",
       " {'entity_group': 'PONCT', 'score': 0.6692338585853577, 'word': ','},\n",
       " {'entity_group': 'VPP', 'score': 0.998975932598114, 'word': 'née'},\n",
       " {'entity_group': 'DET', 'score': 0.9993326663970947, 'word': 'le'},\n",
       " {'entity_group': 'NC', 'score': 0.9539512793223063, 'word': '11/11/2007'},\n",
       " {'entity_group': 'CC', 'score': 0.9991309642791748, 'word': 'et'},\n",
       " {'entity_group': 'ADJ', 'score': 0.5926879048347473, 'word': 'joignable'},\n",
       " {'entity_group': 'P', 'score': 0.9987801909446716, 'word': 'sur'},\n",
       " {'entity_group': 'NC', 'score': 0.6477715969085693, 'word': '06'},\n",
       " {'entity_group': 'DET', 'score': 0.5867198705673218, 'word': '66'},\n",
       " {'entity_group': 'NC', 'score': 0.4739953577518463, 'word': '000'},\n",
       " {'entity_group': 'ADJ', 'score': 0.36007893085479736, 'word': '6'}]"
      ]
     },
     "execution_count": 85,
     "metadata": {},
     "output_type": "execute_result"
    }
   ],
   "source": [
    "nlp_token_class = pipeline('ner', model=model, tokenizer=tokenizer, grouped_entities=True)\n",
    "\n",
    "nlp_token_class('Emma Louise, 26 rue Alexandre, 75005 Paris, France, née le 11/11/2007 et joignable sur 06660006')"
   ]
  },
  {
   "cell_type": "markdown",
   "metadata": {},
   "source": [
    "## Flair + CamemBERT Embeddings"
   ]
  },
  {
   "cell_type": "code",
   "execution_count": 86,
   "metadata": {},
   "outputs": [],
   "source": [
    "from flair.embeddings import FlairEmbeddings, TransformerWordEmbeddings,CamembertEmbeddings, StackedEmbeddings, TokenEmbeddings, WordEmbeddings\n",
    "from flair.data import Sentence\n",
    "import flair.datasets\n",
    "from flair.models import SequenceTagger"
   ]
  },
  {
   "cell_type": "code",
   "execution_count": 87,
   "metadata": {},
   "outputs": [
    {
     "name": "stderr",
     "output_type": "stream",
     "text": [
      "/Users/amalbedoui/opt/anaconda3/envs/retd/lib/python3.7/site-packages/ipykernel_launcher.py:6: DeprecationWarning: Call to deprecated method __init__. (Use 'TransformerWordEmbeddings' for all transformer-based word embeddings) -- Deprecated since version 0.4.5.\n",
      "  \n"
     ]
    }
   ],
   "source": [
    "# init Flair embeddings\n",
    "flair_forward_embedding = FlairEmbeddings('french-forward')\n",
    "flair_backward_embedding = FlairEmbeddings('french-backward')\n",
    "\n",
    "# init multilingual BERT\n",
    "bert_embedding = CamembertEmbeddings()\n",
    "#wordembedding = WordEmbeddings(\"fr\")"
   ]
  },
  {
   "cell_type": "code",
   "execution_count": 88,
   "metadata": {},
   "outputs": [],
   "source": [
    "stacked_embeddings = StackedEmbeddings([\n",
    "                                        bert_embedding,\n",
    "                                        flair_forward_embedding,\n",
    "                                        flair_backward_embedding,\n",
    "                                       ])\n",
    "#stacked_embeddings = StackedEmbeddings([\n",
    "#                                        wordembedding,\n",
    "#                                        flair_forward_embedding,\n",
    "#                                        flair_backward_embedding,\n",
    "#                                       ])"
   ]
  },
  {
   "cell_type": "code",
   "execution_count": 94,
   "metadata": {},
   "outputs": [
    {
     "name": "stdout",
     "output_type": "stream",
     "text": [
      "2020-11-26 21:26:28,042 Reading data from /Users/amalbedoui/.flair/datasets/wikiner_french\n",
      "2020-11-26 21:26:28,043 Train: /Users/amalbedoui/.flair/datasets/wikiner_french/aij-wikiner-fr-wp3.train\n",
      "2020-11-26 21:26:28,044 Dev: None\n",
      "2020-11-26 21:26:28,044 Test: None\n"
     ]
    }
   ],
   "source": [
    "#french_corpus = flair.datasets.XTREME('fr')\n",
    "corpus = flair.datasets.WIKINER_FRENCH()"
   ]
  },
  {
   "cell_type": "code",
   "execution_count": 100,
   "metadata": {},
   "outputs": [],
   "source": [
    "tag_type = 'ner'\n",
    "\n",
    "#make the tag dictionary from the corpus\n",
    "tag_dictionary = corpus.make_tag_dictionary(tag_type=tag_type)\n",
    "\n",
    "tagger: SequenceTagger = SequenceTagger(hidden_size=1,\n",
    "                                        embeddings=stacked_embeddings,\n",
    "                                        tag_dictionary=tag_dictionary,\n",
    "                                        tag_type=tag_type)"
   ]
  },
  {
   "cell_type": "code",
   "execution_count": 101,
   "metadata": {},
   "outputs": [],
   "source": [
    "sentence = Sentence(\"Emma Louise s'est installée au 26 rue Alexandre, 75005 Paris, France, née le 11/11/2007 et joignable sur 06660006\")"
   ]
  },
  {
   "cell_type": "code",
   "execution_count": 102,
   "metadata": {},
   "outputs": [],
   "source": [
    "tagger.predict(sentence)"
   ]
  },
  {
   "cell_type": "code",
   "execution_count": 103,
   "metadata": {},
   "outputs": [
    {
     "name": "stdout",
     "output_type": "stream",
     "text": [
      "{'text': 'Emma', 'start_pos': 0, 'end_pos': 4, 'labels': [LOC (0.2098)]}\n",
      "{'text': 'Louise', 'start_pos': 5, 'end_pos': 11, 'labels': [ORG (0.1289)]}\n",
      "{'text': \"s'est\", 'start_pos': 12, 'end_pos': 17, 'labels': [PER (0.188)]}\n",
      "{'text': 'installée', 'start_pos': 18, 'end_pos': 27, 'labels': [LOC (0.1761)]}\n",
      "{'text': 'au 26', 'start_pos': 28, 'end_pos': 33, 'labels': [ORG (0.1188)]}\n",
      "{'text': 'rue', 'start_pos': 34, 'end_pos': 37, 'labels': [ORG (0.1653)]}\n",
      "{'text': 'Alexandre', 'start_pos': 38, 'end_pos': 47, 'labels': [MISC (0.1535)]}\n",
      "{'text': ', 75005 Paris,', 'start_pos': 47, 'end_pos': 61, 'labels': [MISC (0.1221)]}\n",
      "{'text': 'France', 'start_pos': 62, 'end_pos': 68, 'labels': [ORG (0.1246)]}\n",
      "{'text': ',', 'start_pos': 68, 'end_pos': 69, 'labels': [MISC (0.1186)]}\n",
      "{'text': 'née le 11/11', 'start_pos': 70, 'end_pos': 82, 'labels': [MISC (0.1564)]}\n",
      "{'text': '/', 'start_pos': 82, 'end_pos': 83, 'labels': [ORG (0.1177)]}\n",
      "{'text': '2007', 'start_pos': 83, 'end_pos': 87, 'labels': [MISC (0.1204)]}\n",
      "{'text': 'et joignable', 'start_pos': 88, 'end_pos': 100, 'labels': [ORG (0.1282)]}\n",
      "{'text': 'sur', 'start_pos': 101, 'end_pos': 104, 'labels': [ORG (0.1279)]}\n",
      "{'text': '06660006', 'start_pos': 105, 'end_pos': 113, 'labels': [MISC (0.1053)]}\n"
     ]
    }
   ],
   "source": [
    "for entity in sentence.get_spans('ner'):\n",
    "    print(entity.to_dict())"
   ]
  },
  {
   "cell_type": "code",
   "execution_count": null,
   "metadata": {},
   "outputs": [],
   "source": []
  }
 ],
 "metadata": {
  "kernelspec": {
   "display_name": "Python 3",
   "language": "python",
   "name": "python3"
  },
  "language_info": {
   "codemirror_mode": {
    "name": "ipython",
    "version": 3
   },
   "file_extension": ".py",
   "mimetype": "text/x-python",
   "name": "python",
   "nbconvert_exporter": "python",
   "pygments_lexer": "ipython3",
   "version": "3.7.9"
  }
 },
 "nbformat": 4,
 "nbformat_minor": 4
}
