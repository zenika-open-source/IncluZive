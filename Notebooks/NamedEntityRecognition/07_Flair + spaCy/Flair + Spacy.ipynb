{
 "cells": [
  {
   "cell_type": "markdown",
   "metadata": {},
   "source": [
    "# Importation des librairies"
   ]
  },
  {
   "cell_type": "code",
   "execution_count": 90,
   "metadata": {},
   "outputs": [],
   "source": [
    "import spacy\n",
    "from spacy import displacy\n",
    "import fr_core_news_lg\n",
    "from prettytable import PrettyTable\n",
    "from spacy.scorer import Scorer\n",
    "from spacy.gold import GoldParse\n",
    "from spacy.matcher import Matcher #Adding custom entities\n",
    "from spacy.tokens import Span #Adding custom entities\n",
    "from spacy.matcher import PhraseMatcher\n",
    "import re\n",
    "from flair.data import Sentence\n",
    "from flair.models import SequenceTagger,  MultiTagger"
   ]
  },
  {
   "cell_type": "code",
   "execution_count": 91,
   "metadata": {},
   "outputs": [],
   "source": [
    "nlp = fr_core_news_lg.load()\n",
    "doc = nlp(\"Emma Louise s'est installée au 26 rue Alexandre 75005, Paris, France, elle est née en 2007 et elle est joignable sur 06660006.\")"
   ]
  },
  {
   "cell_type": "markdown",
   "metadata": {},
   "source": [
    "## a) Pos tagging"
   ]
  },
  {
   "cell_type": "code",
   "execution_count": 92,
   "metadata": {},
   "outputs": [],
   "source": [
    "x = PrettyTable()\n",
    "y=PrettyTable()"
   ]
  },
  {
   "cell_type": "code",
   "execution_count": 93,
   "metadata": {},
   "outputs": [],
   "source": [
    "x.field_names =  [\"text\", \"lemma_\", \"pos_\",\"tag_\",\"dep_\",\"shape_\", \"alpha\", \".is_stop\"]"
   ]
  },
  {
   "cell_type": "code",
   "execution_count": 94,
   "metadata": {},
   "outputs": [],
   "source": [
    "for token in doc:\n",
    "    x.add_row([token.text, token.lemma_, token.pos_, token.tag_, token.dep_,\n",
    "            token.shape_, token.is_alpha, token.is_stop])"
   ]
  },
  {
   "cell_type": "code",
   "execution_count": 95,
   "metadata": {},
   "outputs": [
    {
     "data": {
      "text/html": [
       "<span class=\"tex2jax_ignore\"><svg xmlns=\"http://www.w3.org/2000/svg\" xmlns:xlink=\"http://www.w3.org/1999/xlink\" xml:lang=\"fr\" id=\"7f6222882741427686bac00e8b423bc7-0\" class=\"displacy\" width=\"3040\" height=\"657.0\" direction=\"ltr\" style=\"max-width: none; height: 657.0px; color: #000000; background: #ffffff; font-family: Arial; direction: ltr\">\n",
       "<text class=\"displacy-token\" fill=\"currentColor\" text-anchor=\"middle\" y=\"567.0\">\n",
       "    <tspan class=\"displacy-word\" fill=\"currentColor\" x=\"50\">Emma</tspan>\n",
       "    <tspan class=\"displacy-tag\" dy=\"2em\" fill=\"currentColor\" x=\"50\">PROPN</tspan>\n",
       "</text>\n",
       "\n",
       "<text class=\"displacy-token\" fill=\"currentColor\" text-anchor=\"middle\" y=\"567.0\">\n",
       "    <tspan class=\"displacy-word\" fill=\"currentColor\" x=\"180\">Louise</tspan>\n",
       "    <tspan class=\"displacy-tag\" dy=\"2em\" fill=\"currentColor\" x=\"180\">PROPN</tspan>\n",
       "</text>\n",
       "\n",
       "<text class=\"displacy-token\" fill=\"currentColor\" text-anchor=\"middle\" y=\"567.0\">\n",
       "    <tspan class=\"displacy-word\" fill=\"currentColor\" x=\"310\">s'</tspan>\n",
       "    <tspan class=\"displacy-tag\" dy=\"2em\" fill=\"currentColor\" x=\"310\">PRON</tspan>\n",
       "</text>\n",
       "\n",
       "<text class=\"displacy-token\" fill=\"currentColor\" text-anchor=\"middle\" y=\"567.0\">\n",
       "    <tspan class=\"displacy-word\" fill=\"currentColor\" x=\"440\">est</tspan>\n",
       "    <tspan class=\"displacy-tag\" dy=\"2em\" fill=\"currentColor\" x=\"440\">AUX</tspan>\n",
       "</text>\n",
       "\n",
       "<text class=\"displacy-token\" fill=\"currentColor\" text-anchor=\"middle\" y=\"567.0\">\n",
       "    <tspan class=\"displacy-word\" fill=\"currentColor\" x=\"570\">installée</tspan>\n",
       "    <tspan class=\"displacy-tag\" dy=\"2em\" fill=\"currentColor\" x=\"570\">VERB</tspan>\n",
       "</text>\n",
       "\n",
       "<text class=\"displacy-token\" fill=\"currentColor\" text-anchor=\"middle\" y=\"567.0\">\n",
       "    <tspan class=\"displacy-word\" fill=\"currentColor\" x=\"700\">au</tspan>\n",
       "    <tspan class=\"displacy-tag\" dy=\"2em\" fill=\"currentColor\" x=\"700\">DET</tspan>\n",
       "</text>\n",
       "\n",
       "<text class=\"displacy-token\" fill=\"currentColor\" text-anchor=\"middle\" y=\"567.0\">\n",
       "    <tspan class=\"displacy-word\" fill=\"currentColor\" x=\"830\">26</tspan>\n",
       "    <tspan class=\"displacy-tag\" dy=\"2em\" fill=\"currentColor\" x=\"830\">NUM</tspan>\n",
       "</text>\n",
       "\n",
       "<text class=\"displacy-token\" fill=\"currentColor\" text-anchor=\"middle\" y=\"567.0\">\n",
       "    <tspan class=\"displacy-word\" fill=\"currentColor\" x=\"960\">rue</tspan>\n",
       "    <tspan class=\"displacy-tag\" dy=\"2em\" fill=\"currentColor\" x=\"960\">NOUN</tspan>\n",
       "</text>\n",
       "\n",
       "<text class=\"displacy-token\" fill=\"currentColor\" text-anchor=\"middle\" y=\"567.0\">\n",
       "    <tspan class=\"displacy-word\" fill=\"currentColor\" x=\"1090\">Alexandre</tspan>\n",
       "    <tspan class=\"displacy-tag\" dy=\"2em\" fill=\"currentColor\" x=\"1090\">PROPN</tspan>\n",
       "</text>\n",
       "\n",
       "<text class=\"displacy-token\" fill=\"currentColor\" text-anchor=\"middle\" y=\"567.0\">\n",
       "    <tspan class=\"displacy-word\" fill=\"currentColor\" x=\"1220\">75005,</tspan>\n",
       "    <tspan class=\"displacy-tag\" dy=\"2em\" fill=\"currentColor\" x=\"1220\">PROPN</tspan>\n",
       "</text>\n",
       "\n",
       "<text class=\"displacy-token\" fill=\"currentColor\" text-anchor=\"middle\" y=\"567.0\">\n",
       "    <tspan class=\"displacy-word\" fill=\"currentColor\" x=\"1350\">Paris,</tspan>\n",
       "    <tspan class=\"displacy-tag\" dy=\"2em\" fill=\"currentColor\" x=\"1350\">PROPN</tspan>\n",
       "</text>\n",
       "\n",
       "<text class=\"displacy-token\" fill=\"currentColor\" text-anchor=\"middle\" y=\"567.0\">\n",
       "    <tspan class=\"displacy-word\" fill=\"currentColor\" x=\"1480\">France,</tspan>\n",
       "    <tspan class=\"displacy-tag\" dy=\"2em\" fill=\"currentColor\" x=\"1480\">PROPN</tspan>\n",
       "</text>\n",
       "\n",
       "<text class=\"displacy-token\" fill=\"currentColor\" text-anchor=\"middle\" y=\"567.0\">\n",
       "    <tspan class=\"displacy-word\" fill=\"currentColor\" x=\"1610\">elle</tspan>\n",
       "    <tspan class=\"displacy-tag\" dy=\"2em\" fill=\"currentColor\" x=\"1610\">PRON</tspan>\n",
       "</text>\n",
       "\n",
       "<text class=\"displacy-token\" fill=\"currentColor\" text-anchor=\"middle\" y=\"567.0\">\n",
       "    <tspan class=\"displacy-word\" fill=\"currentColor\" x=\"1740\">est</tspan>\n",
       "    <tspan class=\"displacy-tag\" dy=\"2em\" fill=\"currentColor\" x=\"1740\">AUX</tspan>\n",
       "</text>\n",
       "\n",
       "<text class=\"displacy-token\" fill=\"currentColor\" text-anchor=\"middle\" y=\"567.0\">\n",
       "    <tspan class=\"displacy-word\" fill=\"currentColor\" x=\"1870\">née</tspan>\n",
       "    <tspan class=\"displacy-tag\" dy=\"2em\" fill=\"currentColor\" x=\"1870\">VERB</tspan>\n",
       "</text>\n",
       "\n",
       "<text class=\"displacy-token\" fill=\"currentColor\" text-anchor=\"middle\" y=\"567.0\">\n",
       "    <tspan class=\"displacy-word\" fill=\"currentColor\" x=\"2000\">en</tspan>\n",
       "    <tspan class=\"displacy-tag\" dy=\"2em\" fill=\"currentColor\" x=\"2000\">ADP</tspan>\n",
       "</text>\n",
       "\n",
       "<text class=\"displacy-token\" fill=\"currentColor\" text-anchor=\"middle\" y=\"567.0\">\n",
       "    <tspan class=\"displacy-word\" fill=\"currentColor\" x=\"2130\">2007</tspan>\n",
       "    <tspan class=\"displacy-tag\" dy=\"2em\" fill=\"currentColor\" x=\"2130\">NUM</tspan>\n",
       "</text>\n",
       "\n",
       "<text class=\"displacy-token\" fill=\"currentColor\" text-anchor=\"middle\" y=\"567.0\">\n",
       "    <tspan class=\"displacy-word\" fill=\"currentColor\" x=\"2260\">et</tspan>\n",
       "    <tspan class=\"displacy-tag\" dy=\"2em\" fill=\"currentColor\" x=\"2260\">CCONJ</tspan>\n",
       "</text>\n",
       "\n",
       "<text class=\"displacy-token\" fill=\"currentColor\" text-anchor=\"middle\" y=\"567.0\">\n",
       "    <tspan class=\"displacy-word\" fill=\"currentColor\" x=\"2390\">elle</tspan>\n",
       "    <tspan class=\"displacy-tag\" dy=\"2em\" fill=\"currentColor\" x=\"2390\">PRON</tspan>\n",
       "</text>\n",
       "\n",
       "<text class=\"displacy-token\" fill=\"currentColor\" text-anchor=\"middle\" y=\"567.0\">\n",
       "    <tspan class=\"displacy-word\" fill=\"currentColor\" x=\"2520\">est</tspan>\n",
       "    <tspan class=\"displacy-tag\" dy=\"2em\" fill=\"currentColor\" x=\"2520\">AUX</tspan>\n",
       "</text>\n",
       "\n",
       "<text class=\"displacy-token\" fill=\"currentColor\" text-anchor=\"middle\" y=\"567.0\">\n",
       "    <tspan class=\"displacy-word\" fill=\"currentColor\" x=\"2650\">joignable</tspan>\n",
       "    <tspan class=\"displacy-tag\" dy=\"2em\" fill=\"currentColor\" x=\"2650\">ADJ</tspan>\n",
       "</text>\n",
       "\n",
       "<text class=\"displacy-token\" fill=\"currentColor\" text-anchor=\"middle\" y=\"567.0\">\n",
       "    <tspan class=\"displacy-word\" fill=\"currentColor\" x=\"2780\">sur</tspan>\n",
       "    <tspan class=\"displacy-tag\" dy=\"2em\" fill=\"currentColor\" x=\"2780\">ADP</tspan>\n",
       "</text>\n",
       "\n",
       "<text class=\"displacy-token\" fill=\"currentColor\" text-anchor=\"middle\" y=\"567.0\">\n",
       "    <tspan class=\"displacy-word\" fill=\"currentColor\" x=\"2910\">06660006.</tspan>\n",
       "    <tspan class=\"displacy-tag\" dy=\"2em\" fill=\"currentColor\" x=\"2910\">NOUN</tspan>\n",
       "</text>\n",
       "\n",
       "<g class=\"displacy-arrow\">\n",
       "    <path class=\"displacy-arc\" id=\"arrow-7f6222882741427686bac00e8b423bc7-0-0\" stroke-width=\"2px\" d=\"M70,522.0 C70,262.0 550.0,262.0 550.0,522.0\" fill=\"none\" stroke=\"currentColor\"/>\n",
       "    <text dy=\"1.25em\" style=\"font-size: 0.8em; letter-spacing: 1px\">\n",
       "        <textPath xlink:href=\"#arrow-7f6222882741427686bac00e8b423bc7-0-0\" class=\"displacy-label\" startOffset=\"50%\" side=\"left\" fill=\"currentColor\" text-anchor=\"middle\">nsubj</textPath>\n",
       "    </text>\n",
       "    <path class=\"displacy-arrowhead\" d=\"M70,524.0 L62,512.0 78,512.0\" fill=\"currentColor\"/>\n",
       "</g>\n",
       "\n",
       "<g class=\"displacy-arrow\">\n",
       "    <path class=\"displacy-arc\" id=\"arrow-7f6222882741427686bac00e8b423bc7-0-1\" stroke-width=\"2px\" d=\"M70,522.0 C70,457.0 145.0,457.0 145.0,522.0\" fill=\"none\" stroke=\"currentColor\"/>\n",
       "    <text dy=\"1.25em\" style=\"font-size: 0.8em; letter-spacing: 1px\">\n",
       "        <textPath xlink:href=\"#arrow-7f6222882741427686bac00e8b423bc7-0-1\" class=\"displacy-label\" startOffset=\"50%\" side=\"left\" fill=\"currentColor\" text-anchor=\"middle\">flat:name</textPath>\n",
       "    </text>\n",
       "    <path class=\"displacy-arrowhead\" d=\"M145.0,524.0 L153.0,512.0 137.0,512.0\" fill=\"currentColor\"/>\n",
       "</g>\n",
       "\n",
       "<g class=\"displacy-arrow\">\n",
       "    <path class=\"displacy-arc\" id=\"arrow-7f6222882741427686bac00e8b423bc7-0-2\" stroke-width=\"2px\" d=\"M330,522.0 C330,392.0 540.0,392.0 540.0,522.0\" fill=\"none\" stroke=\"currentColor\"/>\n",
       "    <text dy=\"1.25em\" style=\"font-size: 0.8em; letter-spacing: 1px\">\n",
       "        <textPath xlink:href=\"#arrow-7f6222882741427686bac00e8b423bc7-0-2\" class=\"displacy-label\" startOffset=\"50%\" side=\"left\" fill=\"currentColor\" text-anchor=\"middle\">expl:comp</textPath>\n",
       "    </text>\n",
       "    <path class=\"displacy-arrowhead\" d=\"M330,524.0 L322,512.0 338,512.0\" fill=\"currentColor\"/>\n",
       "</g>\n",
       "\n",
       "<g class=\"displacy-arrow\">\n",
       "    <path class=\"displacy-arc\" id=\"arrow-7f6222882741427686bac00e8b423bc7-0-3\" stroke-width=\"2px\" d=\"M460,522.0 C460,457.0 535.0,457.0 535.0,522.0\" fill=\"none\" stroke=\"currentColor\"/>\n",
       "    <text dy=\"1.25em\" style=\"font-size: 0.8em; letter-spacing: 1px\">\n",
       "        <textPath xlink:href=\"#arrow-7f6222882741427686bac00e8b423bc7-0-3\" class=\"displacy-label\" startOffset=\"50%\" side=\"left\" fill=\"currentColor\" text-anchor=\"middle\">aux:tense</textPath>\n",
       "    </text>\n",
       "    <path class=\"displacy-arrowhead\" d=\"M460,524.0 L452,512.0 468,512.0\" fill=\"currentColor\"/>\n",
       "</g>\n",
       "\n",
       "<g class=\"displacy-arrow\">\n",
       "    <path class=\"displacy-arc\" id=\"arrow-7f6222882741427686bac00e8b423bc7-0-4\" stroke-width=\"2px\" d=\"M720,522.0 C720,392.0 930.0,392.0 930.0,522.0\" fill=\"none\" stroke=\"currentColor\"/>\n",
       "    <text dy=\"1.25em\" style=\"font-size: 0.8em; letter-spacing: 1px\">\n",
       "        <textPath xlink:href=\"#arrow-7f6222882741427686bac00e8b423bc7-0-4\" class=\"displacy-label\" startOffset=\"50%\" side=\"left\" fill=\"currentColor\" text-anchor=\"middle\">case</textPath>\n",
       "    </text>\n",
       "    <path class=\"displacy-arrowhead\" d=\"M720,524.0 L712,512.0 728,512.0\" fill=\"currentColor\"/>\n",
       "</g>\n",
       "\n",
       "<g class=\"displacy-arrow\">\n",
       "    <path class=\"displacy-arc\" id=\"arrow-7f6222882741427686bac00e8b423bc7-0-5\" stroke-width=\"2px\" d=\"M850,522.0 C850,457.0 925.0,457.0 925.0,522.0\" fill=\"none\" stroke=\"currentColor\"/>\n",
       "    <text dy=\"1.25em\" style=\"font-size: 0.8em; letter-spacing: 1px\">\n",
       "        <textPath xlink:href=\"#arrow-7f6222882741427686bac00e8b423bc7-0-5\" class=\"displacy-label\" startOffset=\"50%\" side=\"left\" fill=\"currentColor\" text-anchor=\"middle\">nummod</textPath>\n",
       "    </text>\n",
       "    <path class=\"displacy-arrowhead\" d=\"M850,524.0 L842,512.0 858,512.0\" fill=\"currentColor\"/>\n",
       "</g>\n",
       "\n",
       "<g class=\"displacy-arrow\">\n",
       "    <path class=\"displacy-arc\" id=\"arrow-7f6222882741427686bac00e8b423bc7-0-6\" stroke-width=\"2px\" d=\"M590,522.0 C590,327.0 935.0,327.0 935.0,522.0\" fill=\"none\" stroke=\"currentColor\"/>\n",
       "    <text dy=\"1.25em\" style=\"font-size: 0.8em; letter-spacing: 1px\">\n",
       "        <textPath xlink:href=\"#arrow-7f6222882741427686bac00e8b423bc7-0-6\" class=\"displacy-label\" startOffset=\"50%\" side=\"left\" fill=\"currentColor\" text-anchor=\"middle\">obl:arg</textPath>\n",
       "    </text>\n",
       "    <path class=\"displacy-arrowhead\" d=\"M935.0,524.0 L943.0,512.0 927.0,512.0\" fill=\"currentColor\"/>\n",
       "</g>\n",
       "\n",
       "<g class=\"displacy-arrow\">\n",
       "    <path class=\"displacy-arc\" id=\"arrow-7f6222882741427686bac00e8b423bc7-0-7\" stroke-width=\"2px\" d=\"M980,522.0 C980,457.0 1055.0,457.0 1055.0,522.0\" fill=\"none\" stroke=\"currentColor\"/>\n",
       "    <text dy=\"1.25em\" style=\"font-size: 0.8em; letter-spacing: 1px\">\n",
       "        <textPath xlink:href=\"#arrow-7f6222882741427686bac00e8b423bc7-0-7\" class=\"displacy-label\" startOffset=\"50%\" side=\"left\" fill=\"currentColor\" text-anchor=\"middle\">appos</textPath>\n",
       "    </text>\n",
       "    <path class=\"displacy-arrowhead\" d=\"M1055.0,524.0 L1063.0,512.0 1047.0,512.0\" fill=\"currentColor\"/>\n",
       "</g>\n",
       "\n",
       "<g class=\"displacy-arrow\">\n",
       "    <path class=\"displacy-arc\" id=\"arrow-7f6222882741427686bac00e8b423bc7-0-8\" stroke-width=\"2px\" d=\"M1110,522.0 C1110,457.0 1185.0,457.0 1185.0,522.0\" fill=\"none\" stroke=\"currentColor\"/>\n",
       "    <text dy=\"1.25em\" style=\"font-size: 0.8em; letter-spacing: 1px\">\n",
       "        <textPath xlink:href=\"#arrow-7f6222882741427686bac00e8b423bc7-0-8\" class=\"displacy-label\" startOffset=\"50%\" side=\"left\" fill=\"currentColor\" text-anchor=\"middle\">flat:name</textPath>\n",
       "    </text>\n",
       "    <path class=\"displacy-arrowhead\" d=\"M1185.0,524.0 L1193.0,512.0 1177.0,512.0\" fill=\"currentColor\"/>\n",
       "</g>\n",
       "\n",
       "<g class=\"displacy-arrow\">\n",
       "    <path class=\"displacy-arc\" id=\"arrow-7f6222882741427686bac00e8b423bc7-0-9\" stroke-width=\"2px\" d=\"M590,522.0 C590,197.0 1335.0,197.0 1335.0,522.0\" fill=\"none\" stroke=\"currentColor\"/>\n",
       "    <text dy=\"1.25em\" style=\"font-size: 0.8em; letter-spacing: 1px\">\n",
       "        <textPath xlink:href=\"#arrow-7f6222882741427686bac00e8b423bc7-0-9\" class=\"displacy-label\" startOffset=\"50%\" side=\"left\" fill=\"currentColor\" text-anchor=\"middle\">obl:mod</textPath>\n",
       "    </text>\n",
       "    <path class=\"displacy-arrowhead\" d=\"M1335.0,524.0 L1343.0,512.0 1327.0,512.0\" fill=\"currentColor\"/>\n",
       "</g>\n",
       "\n",
       "<g class=\"displacy-arrow\">\n",
       "    <path class=\"displacy-arc\" id=\"arrow-7f6222882741427686bac00e8b423bc7-0-10\" stroke-width=\"2px\" d=\"M590,522.0 C590,132.0 1470.0,132.0 1470.0,522.0\" fill=\"none\" stroke=\"currentColor\"/>\n",
       "    <text dy=\"1.25em\" style=\"font-size: 0.8em; letter-spacing: 1px\">\n",
       "        <textPath xlink:href=\"#arrow-7f6222882741427686bac00e8b423bc7-0-10\" class=\"displacy-label\" startOffset=\"50%\" side=\"left\" fill=\"currentColor\" text-anchor=\"middle\">obl:mod</textPath>\n",
       "    </text>\n",
       "    <path class=\"displacy-arrowhead\" d=\"M1470.0,524.0 L1478.0,512.0 1462.0,512.0\" fill=\"currentColor\"/>\n",
       "</g>\n",
       "\n",
       "<g class=\"displacy-arrow\">\n",
       "    <path class=\"displacy-arc\" id=\"arrow-7f6222882741427686bac00e8b423bc7-0-11\" stroke-width=\"2px\" d=\"M1630,522.0 C1630,392.0 1840.0,392.0 1840.0,522.0\" fill=\"none\" stroke=\"currentColor\"/>\n",
       "    <text dy=\"1.25em\" style=\"font-size: 0.8em; letter-spacing: 1px\">\n",
       "        <textPath xlink:href=\"#arrow-7f6222882741427686bac00e8b423bc7-0-11\" class=\"displacy-label\" startOffset=\"50%\" side=\"left\" fill=\"currentColor\" text-anchor=\"middle\">nsubj:pass</textPath>\n",
       "    </text>\n",
       "    <path class=\"displacy-arrowhead\" d=\"M1630,524.0 L1622,512.0 1638,512.0\" fill=\"currentColor\"/>\n",
       "</g>\n",
       "\n",
       "<g class=\"displacy-arrow\">\n",
       "    <path class=\"displacy-arc\" id=\"arrow-7f6222882741427686bac00e8b423bc7-0-12\" stroke-width=\"2px\" d=\"M1760,522.0 C1760,457.0 1835.0,457.0 1835.0,522.0\" fill=\"none\" stroke=\"currentColor\"/>\n",
       "    <text dy=\"1.25em\" style=\"font-size: 0.8em; letter-spacing: 1px\">\n",
       "        <textPath xlink:href=\"#arrow-7f6222882741427686bac00e8b423bc7-0-12\" class=\"displacy-label\" startOffset=\"50%\" side=\"left\" fill=\"currentColor\" text-anchor=\"middle\">aux:pass</textPath>\n",
       "    </text>\n",
       "    <path class=\"displacy-arrowhead\" d=\"M1760,524.0 L1752,512.0 1768,512.0\" fill=\"currentColor\"/>\n",
       "</g>\n",
       "\n",
       "<g class=\"displacy-arrow\">\n",
       "    <path class=\"displacy-arc\" id=\"arrow-7f6222882741427686bac00e8b423bc7-0-13\" stroke-width=\"2px\" d=\"M590,522.0 C590,67.0 1865.0,67.0 1865.0,522.0\" fill=\"none\" stroke=\"currentColor\"/>\n",
       "    <text dy=\"1.25em\" style=\"font-size: 0.8em; letter-spacing: 1px\">\n",
       "        <textPath xlink:href=\"#arrow-7f6222882741427686bac00e8b423bc7-0-13\" class=\"displacy-label\" startOffset=\"50%\" side=\"left\" fill=\"currentColor\" text-anchor=\"middle\">advcl</textPath>\n",
       "    </text>\n",
       "    <path class=\"displacy-arrowhead\" d=\"M1865.0,524.0 L1873.0,512.0 1857.0,512.0\" fill=\"currentColor\"/>\n",
       "</g>\n",
       "\n",
       "<g class=\"displacy-arrow\">\n",
       "    <path class=\"displacy-arc\" id=\"arrow-7f6222882741427686bac00e8b423bc7-0-14\" stroke-width=\"2px\" d=\"M2020,522.0 C2020,457.0 2095.0,457.0 2095.0,522.0\" fill=\"none\" stroke=\"currentColor\"/>\n",
       "    <text dy=\"1.25em\" style=\"font-size: 0.8em; letter-spacing: 1px\">\n",
       "        <textPath xlink:href=\"#arrow-7f6222882741427686bac00e8b423bc7-0-14\" class=\"displacy-label\" startOffset=\"50%\" side=\"left\" fill=\"currentColor\" text-anchor=\"middle\">case</textPath>\n",
       "    </text>\n",
       "    <path class=\"displacy-arrowhead\" d=\"M2020,524.0 L2012,512.0 2028,512.0\" fill=\"currentColor\"/>\n",
       "</g>\n",
       "\n",
       "<g class=\"displacy-arrow\">\n",
       "    <path class=\"displacy-arc\" id=\"arrow-7f6222882741427686bac00e8b423bc7-0-15\" stroke-width=\"2px\" d=\"M1890,522.0 C1890,392.0 2100.0,392.0 2100.0,522.0\" fill=\"none\" stroke=\"currentColor\"/>\n",
       "    <text dy=\"1.25em\" style=\"font-size: 0.8em; letter-spacing: 1px\">\n",
       "        <textPath xlink:href=\"#arrow-7f6222882741427686bac00e8b423bc7-0-15\" class=\"displacy-label\" startOffset=\"50%\" side=\"left\" fill=\"currentColor\" text-anchor=\"middle\">obl:mod</textPath>\n",
       "    </text>\n",
       "    <path class=\"displacy-arrowhead\" d=\"M2100.0,524.0 L2108.0,512.0 2092.0,512.0\" fill=\"currentColor\"/>\n",
       "</g>\n",
       "\n",
       "<g class=\"displacy-arrow\">\n",
       "    <path class=\"displacy-arc\" id=\"arrow-7f6222882741427686bac00e8b423bc7-0-16\" stroke-width=\"2px\" d=\"M2280,522.0 C2280,327.0 2625.0,327.0 2625.0,522.0\" fill=\"none\" stroke=\"currentColor\"/>\n",
       "    <text dy=\"1.25em\" style=\"font-size: 0.8em; letter-spacing: 1px\">\n",
       "        <textPath xlink:href=\"#arrow-7f6222882741427686bac00e8b423bc7-0-16\" class=\"displacy-label\" startOffset=\"50%\" side=\"left\" fill=\"currentColor\" text-anchor=\"middle\">cc</textPath>\n",
       "    </text>\n",
       "    <path class=\"displacy-arrowhead\" d=\"M2280,524.0 L2272,512.0 2288,512.0\" fill=\"currentColor\"/>\n",
       "</g>\n",
       "\n",
       "<g class=\"displacy-arrow\">\n",
       "    <path class=\"displacy-arc\" id=\"arrow-7f6222882741427686bac00e8b423bc7-0-17\" stroke-width=\"2px\" d=\"M2410,522.0 C2410,392.0 2620.0,392.0 2620.0,522.0\" fill=\"none\" stroke=\"currentColor\"/>\n",
       "    <text dy=\"1.25em\" style=\"font-size: 0.8em; letter-spacing: 1px\">\n",
       "        <textPath xlink:href=\"#arrow-7f6222882741427686bac00e8b423bc7-0-17\" class=\"displacy-label\" startOffset=\"50%\" side=\"left\" fill=\"currentColor\" text-anchor=\"middle\">nsubj</textPath>\n",
       "    </text>\n",
       "    <path class=\"displacy-arrowhead\" d=\"M2410,524.0 L2402,512.0 2418,512.0\" fill=\"currentColor\"/>\n",
       "</g>\n",
       "\n",
       "<g class=\"displacy-arrow\">\n",
       "    <path class=\"displacy-arc\" id=\"arrow-7f6222882741427686bac00e8b423bc7-0-18\" stroke-width=\"2px\" d=\"M2540,522.0 C2540,457.0 2615.0,457.0 2615.0,522.0\" fill=\"none\" stroke=\"currentColor\"/>\n",
       "    <text dy=\"1.25em\" style=\"font-size: 0.8em; letter-spacing: 1px\">\n",
       "        <textPath xlink:href=\"#arrow-7f6222882741427686bac00e8b423bc7-0-18\" class=\"displacy-label\" startOffset=\"50%\" side=\"left\" fill=\"currentColor\" text-anchor=\"middle\">cop</textPath>\n",
       "    </text>\n",
       "    <path class=\"displacy-arrowhead\" d=\"M2540,524.0 L2532,512.0 2548,512.0\" fill=\"currentColor\"/>\n",
       "</g>\n",
       "\n",
       "<g class=\"displacy-arrow\">\n",
       "    <path class=\"displacy-arc\" id=\"arrow-7f6222882741427686bac00e8b423bc7-0-19\" stroke-width=\"2px\" d=\"M590,522.0 C590,2.0 2650.0,2.0 2650.0,522.0\" fill=\"none\" stroke=\"currentColor\"/>\n",
       "    <text dy=\"1.25em\" style=\"font-size: 0.8em; letter-spacing: 1px\">\n",
       "        <textPath xlink:href=\"#arrow-7f6222882741427686bac00e8b423bc7-0-19\" class=\"displacy-label\" startOffset=\"50%\" side=\"left\" fill=\"currentColor\" text-anchor=\"middle\">conj</textPath>\n",
       "    </text>\n",
       "    <path class=\"displacy-arrowhead\" d=\"M2650.0,524.0 L2658.0,512.0 2642.0,512.0\" fill=\"currentColor\"/>\n",
       "</g>\n",
       "\n",
       "<g class=\"displacy-arrow\">\n",
       "    <path class=\"displacy-arc\" id=\"arrow-7f6222882741427686bac00e8b423bc7-0-20\" stroke-width=\"2px\" d=\"M2800,522.0 C2800,457.0 2875.0,457.0 2875.0,522.0\" fill=\"none\" stroke=\"currentColor\"/>\n",
       "    <text dy=\"1.25em\" style=\"font-size: 0.8em; letter-spacing: 1px\">\n",
       "        <textPath xlink:href=\"#arrow-7f6222882741427686bac00e8b423bc7-0-20\" class=\"displacy-label\" startOffset=\"50%\" side=\"left\" fill=\"currentColor\" text-anchor=\"middle\">case</textPath>\n",
       "    </text>\n",
       "    <path class=\"displacy-arrowhead\" d=\"M2800,524.0 L2792,512.0 2808,512.0\" fill=\"currentColor\"/>\n",
       "</g>\n",
       "\n",
       "<g class=\"displacy-arrow\">\n",
       "    <path class=\"displacy-arc\" id=\"arrow-7f6222882741427686bac00e8b423bc7-0-21\" stroke-width=\"2px\" d=\"M2670,522.0 C2670,392.0 2880.0,392.0 2880.0,522.0\" fill=\"none\" stroke=\"currentColor\"/>\n",
       "    <text dy=\"1.25em\" style=\"font-size: 0.8em; letter-spacing: 1px\">\n",
       "        <textPath xlink:href=\"#arrow-7f6222882741427686bac00e8b423bc7-0-21\" class=\"displacy-label\" startOffset=\"50%\" side=\"left\" fill=\"currentColor\" text-anchor=\"middle\">obl:mod</textPath>\n",
       "    </text>\n",
       "    <path class=\"displacy-arrowhead\" d=\"M2880.0,524.0 L2888.0,512.0 2872.0,512.0\" fill=\"currentColor\"/>\n",
       "</g>\n",
       "</svg></span>"
      ],
      "text/plain": [
       "<IPython.core.display.HTML object>"
      ]
     },
     "metadata": {},
     "output_type": "display_data"
    }
   ],
   "source": [
    "options = {\"distance\": 130}\n",
    "displacy.render(doc, style=\"dep\", options=options) # (1)"
   ]
  },
  {
   "cell_type": "code",
   "execution_count": 96,
   "metadata": {},
   "outputs": [
    {
     "name": "stdout",
     "output_type": "stream",
     "text": [
      "+-----------+-----------+-------+------------------------------------------------------------+------------+--------+-------+----------+\n",
      "|    text   |   lemma_  |  pos_ |                            tag_                            |    dep_    | shape_ | alpha | .is_stop |\n",
      "+-----------+-----------+-------+------------------------------------------------------------+------------+--------+-------+----------+\n",
      "|    Emma   |    Emma   | PROPN |               PROPN__Gender=Fem|Number=Sing                |   nsubj    |  Xxxx  |  True |  False   |\n",
      "|   Louise  |   Louise  | PROPN |                           PROPN                            | flat:name  | Xxxxx  |  True |  False   |\n",
      "|     s'    |     se    |  PRON |                 PRON__Person=3|Reflex=Yes                  | expl:comp  |   x'   | False |   True   |\n",
      "|    est    |    être   |  AUX  | AUX__Mood=Ind|Number=Sing|Person=3|Tense=Pres|VerbForm=Fin | aux:tense  |  xxx   |  True |   True   |\n",
      "| installée | installer |  VERB |   VERB__Gender=Fem|Number=Sing|Tense=Past|VerbForm=Part    |    ROOT    |  xxxx  |  True |  False   |\n",
      "|     au    |     au    |  DET  | ADP_DET__Definite=Def|Gender=Masc|Number=Sing|PronType=Art |    case    |   xx   |  True |   True   |\n",
      "|     26    |     26    |  NUM  |                     NUM__NumType=Card                      |   nummod   |   dd   | False |  False   |\n",
      "|    rue    |    rue    |  NOUN |                NOUN__Gender=Fem|Number=Sing                |  obl:arg   |  xxx   |  True |  False   |\n",
      "| Alexandre | Alexandre | PROPN |               PROPN__Gender=Masc|Number=Sing               |   appos    | Xxxxx  |  True |  False   |\n",
      "|   75005   |   75005   | PROPN |               PROPN__Gender=Masc|Number=Sing               | flat:name  |  dddd  | False |  False   |\n",
      "|     ,     |     ,     | PUNCT |                           PUNCT                            |   punct    |   ,    | False |  False   |\n",
      "|   Paris   |   Paris   | PROPN |               PROPN__Gender=Masc|Number=Sing               |  obl:mod   | Xxxxx  |  True |  False   |\n",
      "|     ,     |     ,     | PUNCT |                           PUNCT                            |   punct    |   ,    | False |  False   |\n",
      "|   France  |   France  | PROPN |               PROPN__Gender=Fem|Number=Sing                |  obl:mod   | Xxxxx  |  True |  False   |\n",
      "|     ,     |     ,     | PUNCT |                           PUNCT                            |   punct    |   ,    | False |  False   |\n",
      "|    elle   |    lui    |  PRON |           PRON__Gender=Fem|Number=Sing|Person=3            | nsubj:pass |  xxxx  |  True |   True   |\n",
      "|    est    |    être   |  AUX  | AUX__Mood=Ind|Number=Sing|Person=3|Tense=Pres|VerbForm=Fin |  aux:pass  |  xxx   |  True |   True   |\n",
      "|    née    |   naître  |  VERB |   VERB__Gender=Fem|Number=Sing|Tense=Past|VerbForm=Part    |   advcl    |  xxx   |  True |  False   |\n",
      "|     en    |     en    |  ADP  |                            ADP                             |    case    |   xx   |  True |   True   |\n",
      "|    2007   |    2007   |  NUM  |                     NUM__NumType=Card                      |  obl:mod   |  dddd  | False |  False   |\n",
      "|     et    |     et    | CCONJ |                           CCONJ                            |     cc     |   xx   |  True |   True   |\n",
      "|    elle   |    lui    |  PRON |           PRON__Gender=Fem|Number=Sing|Person=3            |   nsubj    |  xxxx  |  True |   True   |\n",
      "|    est    |    être   |  AUX  | AUX__Mood=Ind|Number=Sing|Person=3|Tense=Pres|VerbForm=Fin |    cop     |  xxx   |  True |   True   |\n",
      "| joignable | joignable |  ADJ  |                      ADJ__Number=Sing                      |    conj    |  xxxx  |  True |  False   |\n",
      "|    sur    |    sur    |  ADP  |                            ADP                             |    case    |  xxx   |  True |   True   |\n",
      "|  06660006 |  06660006 |  NOUN |                     NOUN__NumType=Card                     |  obl:mod   |  dddd  | False |  False   |\n",
      "|     .     |     .     | PUNCT |                           PUNCT                            |   punct    |   .    | False |  False   |\n",
      "+-----------+-----------+-------+------------------------------------------------------------+------------+--------+-------+----------+\n"
     ]
    }
   ],
   "source": [
    "print (x)"
   ]
  },
  {
   "cell_type": "markdown",
   "metadata": {},
   "source": [
    "## b) Named Entities"
   ]
  },
  {
   "cell_type": "code",
   "execution_count": 97,
   "metadata": {},
   "outputs": [],
   "source": [
    "y.field_names = [\"text\", \"start_char\", \"end_char\", \"label_\"]"
   ]
  },
  {
   "cell_type": "code",
   "execution_count": 98,
   "metadata": {},
   "outputs": [],
   "source": [
    "for ent in doc.ents:\n",
    "    y.add_row([ent.text, ent.start_char, ent.end_char, ent.label_])   "
   ]
  },
  {
   "cell_type": "code",
   "execution_count": 99,
   "metadata": {},
   "outputs": [
    {
     "data": {
      "text/html": [
       "<span class=\"tex2jax_ignore\"><div class=\"entities\" style=\"line-height: 2.5; direction: ltr\">\n",
       "<mark class=\"entity\" style=\"background: #ddd; padding: 0.45em 0.6em; margin: 0 0.25em; line-height: 1; border-radius: 0.35em;\">\n",
       "    Emma Louise\n",
       "    <span style=\"font-size: 0.8em; font-weight: bold; line-height: 1; border-radius: 0.35em; text-transform: uppercase; vertical-align: middle; margin-left: 0.5rem\">PER</span>\n",
       "</mark>\n",
       " s'est installée au 26 rue Alexandre 75005, \n",
       "<mark class=\"entity\" style=\"background: #ff9561; padding: 0.45em 0.6em; margin: 0 0.25em; line-height: 1; border-radius: 0.35em;\">\n",
       "    Paris\n",
       "    <span style=\"font-size: 0.8em; font-weight: bold; line-height: 1; border-radius: 0.35em; text-transform: uppercase; vertical-align: middle; margin-left: 0.5rem\">LOC</span>\n",
       "</mark>\n",
       ", \n",
       "<mark class=\"entity\" style=\"background: #ff9561; padding: 0.45em 0.6em; margin: 0 0.25em; line-height: 1; border-radius: 0.35em;\">\n",
       "    France\n",
       "    <span style=\"font-size: 0.8em; font-weight: bold; line-height: 1; border-radius: 0.35em; text-transform: uppercase; vertical-align: middle; margin-left: 0.5rem\">LOC</span>\n",
       "</mark>\n",
       ", elle est née en 2007 et elle est joignable sur 06660006.</div></span>"
      ],
      "text/plain": [
       "<IPython.core.display.HTML object>"
      ]
     },
     "metadata": {},
     "output_type": "display_data"
    }
   ],
   "source": [
    "displacy.render(doc, style=\"ent\") # (2)"
   ]
  },
  {
   "cell_type": "code",
   "execution_count": 100,
   "metadata": {
    "scrolled": true
   },
   "outputs": [
    {
     "name": "stdout",
     "output_type": "stream",
     "text": [
      "+-------------+------------+----------+--------+\n",
      "|     text    | start_char | end_char | label_ |\n",
      "+-------------+------------+----------+--------+\n",
      "| Emma Louise |     0      |    11    |  PER   |\n",
      "|    Paris    |     55     |    60    |  LOC   |\n",
      "|    France   |     62     |    68    |  LOC   |\n",
      "+-------------+------------+----------+--------+\n"
     ]
    }
   ],
   "source": [
    "print(y)"
   ]
  },
  {
   "cell_type": "markdown",
   "metadata": {},
   "source": [
    "## c) Métriques d'évaluation"
   ]
  },
  {
   "cell_type": "code",
   "execution_count": 101,
   "metadata": {},
   "outputs": [],
   "source": [
    "def evaluate(ner_model, examples):\n",
    "    scorer = Scorer()\n",
    "    for input_, annot in examples:\n",
    "        doc_gold_text = ner_model.make_doc(input_)\n",
    "        gold = GoldParse(doc_gold_text, entities=annot)\n",
    "        pred_value = ner_model(input_)\n",
    "        scorer.score(pred_value, gold)\n",
    "    return scorer.scores# example run"
   ]
  },
  {
   "cell_type": "code",
   "execution_count": 102,
   "metadata": {},
   "outputs": [],
   "source": [
    "examples = [\n",
    "    (\"Je suis Marie Antoinette. J'habite à London. Diplômée en 2018 et joignable sur 06660006\",[(8,24,\"PER\"),(37,43,\"LOC\")]),\n",
    "    (\"François travaille chez la société française Zenika depuis 2011. Il était recruté initialement à Montréal.\",[(0,8,\"PER\"),(35,44,\"MISC\"),(45,51,\"ORG\"),(107,115,\"LOC\")]),\n",
    "    (\"Frédéric, 34 ans, installé à Lyon.\",[(0,8,\"PER\"),(29,33,\"LOC\")]),\n",
    "    (\"Amélie habite à Palaiseau depuis son arrivée en France \",[(0,6,\"PER\"),(16,25,\"LOC\"),(48,54,\"LOC\")]),\n",
    "    (\"Julien travaille à Asnières-sur-Seine chez FBI.\",[(0,6,\"PER\"),(19,37,\"LOC\"),(43,46,\"ORG\")]),\n",
    "    (\"Jack est consultant chez Google.\",[(0,4,\"PER\"),(25,31,\"ORG\")]),\n",
    "    (\"Les anglais sont chaleureux.\",[(4,11,\"MISC\")]),\n",
    "]"
   ]
  },
  {
   "cell_type": "code",
   "execution_count": 103,
   "metadata": {},
   "outputs": [],
   "source": [
    "results = evaluate(nlp, examples)"
   ]
  },
  {
   "cell_type": "code",
   "execution_count": 104,
   "metadata": {},
   "outputs": [
    {
     "name": "stdout",
     "output_type": "stream",
     "text": [
      "Précision des entités:  92.85714285714286\n",
      "Rappel des entités:  81.25\n",
      "F-score des entités:  86.66666666666666\n",
      "Métriques de l'entité PER:  {'p': 100.0, 'r': 83.33333333333334, 'f': 90.9090909090909}\n",
      "Métriques de l'entité LOC:  {'p': 83.33333333333334, 'r': 100.0, 'f': 90.9090909090909}\n",
      "Métriques de l'entité ORG:  {'p': 100.0, 'r': 100.0, 'f': 100.0}\n",
      "Métriques de l'entité MISC:  {'p': 0.0, 'r': 0.0, 'f': 0.0}\n"
     ]
    }
   ],
   "source": [
    "print(\"Précision des entités: \",results.get(\"ents_p\"))\n",
    "print(\"Rappel des entités: \",results.get(\"ents_r\"))\n",
    "print(\"F-score des entités: \",results.get(\"ents_f\"))\n",
    "print(\"Métriques de l'entité PER: \",results.get(\"ents_per_type\").get(\"PER\"))\n",
    "print(\"Métriques de l'entité LOC: \",results.get(\"ents_per_type\").get(\"LOC\"))\n",
    "print(\"Métriques de l'entité ORG: \",results.get(\"ents_per_type\").get(\"ORG\"))\n",
    "print(\"Métriques de l'entité MISC: \",results.get(\"ents_per_type\").get(\"MISC\"))"
   ]
  },
  {
   "cell_type": "markdown",
   "metadata": {},
   "source": [
    "## Filtre des POS de Flair"
   ]
  },
  {
   "cell_type": "code",
   "execution_count": 105,
   "metadata": {},
   "outputs": [
    {
     "name": "stdout",
     "output_type": "stream",
     "text": [
      "2020-12-15 14:11:47,909 loading file /Users/amalbedoui/.flair/models/pos-multi-v0.1.pt\n",
      "2020-12-15 14:11:50,873 loading file /Users/amalbedoui/.flair/models/fr-ner-wikiner-0.4.pt\n"
     ]
    }
   ],
   "source": [
    "tagger = MultiTagger.load(['pos-multi', 'fr-ner'])"
   ]
  },
  {
   "cell_type": "code",
   "execution_count": 106,
   "metadata": {},
   "outputs": [],
   "source": [
    "phrase =\"Passionnée par le développement, Emma Louise s'est installée à Paris,  Son adresse  mail est emma.louise@google.com, son compte linkedin est https://www.linkedin.com/in/el-424781150/ et elle est joignable sur +33987609876 . elle a 26 ans vu qu'elle est née le 16/11/1994 , elle est mariée et a 2 enfants. Son numéro de sécurité sociale 2 94 11 99 205 148 . Son sexe est Féminin (F) .Elle a été diplômée en 11/11/2018, à l'issue d'une formation de 5 ans d'ingénierie de 2013 à 2018 à l'Ecole Polytechnique à Palaiseau.\"\n",
    "# text\n",
    "sentence = Sentence(phrase)\n",
    "\n",
    "# predict PoS tags\n",
    "tagger.predict(sentence)"
   ]
  },
  {
   "cell_type": "code",
   "execution_count": 107,
   "metadata": {},
   "outputs": [
    {
     "name": "stdout",
     "output_type": "stream",
     "text": [
      "Passionnée <VERB> par <ADP> le <DET> développement <NOUN> , <PUNCT> Emma <PROPN/B-PER> Louise <PROPN/E-PER> s'est <AUX> installée <VERB> à <ADP> Paris <PROPN/S-LOC> , <PUNCT> Son <DET> adresse <NOUN> mail <NOUN> est <AUX> emma.louise <PROPN> @ <PUNCT> google.com <SYM> , <PUNCT> son <DET> compte <NOUN> linkedin <NOUN> est <AUX> https <ADJ> :// <PUNCT> www.linkedin.com <SYM> / <PUNCT> in <X> / <PUNCT> el-424781150 <X/S-MISC> / <PUNCT> et <CCONJ> elle <PRON> est <AUX> joignable <VERB> sur <ADP> + <SYM> 33987609876 <NUM> . <PUNCT> elle <PRON> a <VERB> 26 <NUM> ans <NOUN> vu <ADV> qu'elle <PRON> est <AUX> née <VERB> le <DET> 16 <NUM> / <PUNCT> 11 <NUM> / <PUNCT> 1994 <NUM> , <PUNCT> elle <PRON> est <AUX> mariée <VERB> et <CCONJ> a <VERB> 2 <NUM> enfants <NOUN> . <PUNCT> Son <DET> numéro <NOUN> de <ADP> sécurité <NOUN> sociale <ADJ> 2 <NUM> 94 <NUM> 11 <NUM> 99 <NUM> 205 <NUM> 148 <NUM> . <PUNCT> Son <DET> sexe <NOUN> est <AUX> Féminin <PROPN/S-MISC> ( <PUNCT> F <PROPN/S-LOC> ) <PUNCT> . <PUNCT> Elle <PRON> a <AUX> été <AUX> diplômée <VERB> en <ADP> 11 <NUM> / <PUNCT> 11 <NUM> / <PUNCT> 2018 <NUM> , <PUNCT> à <ADP> l'issue <PRON> d'une <ADP> formation <NOUN> de <ADP> 5 <NUM> ans <NOUN> d'ingénierie <ADJ> de <ADP> 2013 <NUM> à <ADP> 2018 <NUM> à <ADP> l'Ecole <PROPN> Polytechnique <PROPN/S-ORG> à <ADP> Palaiseau <PROPN/S-LOC> . <PUNCT>\n"
     ]
    }
   ],
   "source": [
    "print(sentence.to_tagged_string())"
   ]
  },
  {
   "cell_type": "code",
   "execution_count": 108,
   "metadata": {},
   "outputs": [
    {
     "name": "stdout",
     "output_type": "stream",
     "text": [
      "Span [1]: \"Passionnée\"   [− Labels: VERB (0.9949)]\n",
      "Span [2]: \"par\"   [− Labels: ADP (1.0)]\n",
      "Span [3]: \"le\"   [− Labels: DET (1.0)]\n",
      "Span [4]: \"développement\"   [− Labels: NOUN (0.9999)]\n",
      "Span [5]: \",\"   [− Labels: PUNCT (1.0)]\n",
      "Span [6]: \"Emma\"   [− Labels: PROPN (0.9999)]\n",
      "Span [7]: \"Louise\"   [− Labels: PROPN (0.9999)]\n",
      "Span [8]: \"s'est\"   [− Labels: AUX (0.9983)]\n",
      "Span [9]: \"installée\"   [− Labels: VERB (0.9985)]\n",
      "Span [10]: \"à\"   [− Labels: ADP (1.0)]\n",
      "Span [11]: \"Paris\"   [− Labels: PROPN (1.0)]\n",
      "Span [12]: \",\"   [− Labels: PUNCT (1.0)]\n",
      "Span [13]: \"Son\"   [− Labels: DET (0.999)]\n",
      "Span [14]: \"adresse\"   [− Labels: NOUN (0.9985)]\n",
      "Span [15]: \"mail\"   [− Labels: NOUN (0.9567)]\n",
      "Span [16]: \"est\"   [− Labels: AUX (0.9966)]\n",
      "Span [17]: \"emma.louise\"   [− Labels: PROPN (0.4544)]\n",
      "Span [18]: \"@\"   [− Labels: PUNCT (0.9971)]\n",
      "Span [19]: \"google.com\"   [− Labels: SYM (0.7381)]\n",
      "Span [20]: \",\"   [− Labels: PUNCT (1.0)]\n",
      "Span [21]: \"son\"   [− Labels: DET (1.0)]\n",
      "Span [22]: \"compte\"   [− Labels: NOUN (0.9981)]\n",
      "Span [23]: \"linkedin\"   [− Labels: NOUN (0.6473)]\n",
      "Span [24]: \"est\"   [− Labels: AUX (0.9739)]\n",
      "Span [25]: \"https\"   [− Labels: ADJ (0.4727)]\n",
      "Span [26]: \"://\"   [− Labels: PUNCT (0.8205)]\n",
      "Span [27]: \"www.linkedin.com\"   [− Labels: SYM (0.9512)]\n",
      "Span [28]: \"/\"   [− Labels: PUNCT (0.9798)]\n",
      "Span [29]: \"in\"   [− Labels: X (0.6621)]\n",
      "Span [30]: \"/\"   [− Labels: PUNCT (0.9766)]\n",
      "Span [31]: \"el-424781150\"   [− Labels: X (0.6584)]\n",
      "Span [32]: \"/\"   [− Labels: PUNCT (0.9954)]\n",
      "Span [33]: \"et\"   [− Labels: CCONJ (1.0)]\n",
      "Span [34]: \"elle\"   [− Labels: PRON (1.0)]\n",
      "Span [35]: \"est\"   [− Labels: AUX (0.9998)]\n",
      "Span [36]: \"joignable\"   [− Labels: VERB (0.5081)]\n",
      "Span [37]: \"sur\"   [− Labels: ADP (0.9997)]\n",
      "Span [38]: \"+\"   [− Labels: SYM (0.9623)]\n",
      "Span [39]: \"33987609876\"   [− Labels: NUM (0.9845)]\n",
      "Span [40]: \".\"   [− Labels: PUNCT (1.0)]\n",
      "Span [41]: \"elle\"   [− Labels: PRON (1.0)]\n",
      "Span [42]: \"a\"   [− Labels: VERB (1.0)]\n",
      "Span [43]: \"26\"   [− Labels: NUM (1.0)]\n",
      "Span [44]: \"ans\"   [− Labels: NOUN (1.0)]\n",
      "Span [45]: \"vu\"   [− Labels: ADV (0.5879)]\n",
      "Span [46]: \"qu'elle\"   [− Labels: PRON (0.9903)]\n",
      "Span [47]: \"est\"   [− Labels: AUX (0.9999)]\n",
      "Span [48]: \"née\"   [− Labels: VERB (0.9991)]\n",
      "Span [49]: \"le\"   [− Labels: DET (1.0)]\n",
      "Span [50]: \"16\"   [− Labels: NUM (0.9999)]\n",
      "Span [51]: \"/\"   [− Labels: PUNCT (0.9927)]\n",
      "Span [52]: \"11\"   [− Labels: NUM (0.9998)]\n",
      "Span [53]: \"/\"   [− Labels: PUNCT (0.9968)]\n",
      "Span [54]: \"1994\"   [− Labels: NUM (0.9999)]\n",
      "Span [55]: \",\"   [− Labels: PUNCT (1.0)]\n",
      "Span [56]: \"elle\"   [− Labels: PRON (1.0)]\n",
      "Span [57]: \"est\"   [− Labels: AUX (0.9999)]\n",
      "Span [58]: \"mariée\"   [− Labels: VERB (0.891)]\n",
      "Span [59]: \"et\"   [− Labels: CCONJ (1.0)]\n",
      "Span [60]: \"a\"   [− Labels: VERB (0.9999)]\n",
      "Span [61]: \"2\"   [− Labels: NUM (1.0)]\n",
      "Span [62]: \"enfants\"   [− Labels: NOUN (0.9999)]\n",
      "Span [63]: \".\"   [− Labels: PUNCT (1.0)]\n",
      "Span [64]: \"Son\"   [− Labels: DET (0.9988)]\n",
      "Span [65]: \"numéro\"   [− Labels: NOUN (1.0)]\n",
      "Span [66]: \"de\"   [− Labels: ADP (1.0)]\n",
      "Span [67]: \"sécurité\"   [− Labels: NOUN (0.9999)]\n",
      "Span [68]: \"sociale\"   [− Labels: ADJ (0.9999)]\n",
      "Span [69]: \"2\"   [− Labels: NUM (0.9994)]\n",
      "Span [70]: \"94\"   [− Labels: NUM (0.9995)]\n",
      "Span [71]: \"11\"   [− Labels: NUM (0.9994)]\n",
      "Span [72]: \"99\"   [− Labels: NUM (0.9994)]\n",
      "Span [73]: \"205\"   [− Labels: NUM (0.9982)]\n",
      "Span [74]: \"148\"   [− Labels: NUM (0.9976)]\n",
      "Span [75]: \".\"   [− Labels: PUNCT (1.0)]\n",
      "Span [76]: \"Son\"   [− Labels: DET (0.9997)]\n",
      "Span [77]: \"sexe\"   [− Labels: NOUN (0.9997)]\n",
      "Span [78]: \"est\"   [− Labels: AUX (0.9937)]\n",
      "Span [79]: \"Féminin\"   [− Labels: PROPN (0.5271)]\n",
      "Span [80]: \"(\"   [− Labels: PUNCT (0.9999)]\n",
      "Span [81]: \"F\"   [− Labels: PROPN (0.4658)]\n",
      "Span [82]: \")\"   [− Labels: PUNCT (1.0)]\n",
      "Span [83]: \".\"   [− Labels: PUNCT (1.0)]\n",
      "Span [84]: \"Elle\"   [− Labels: PRON (0.9995)]\n",
      "Span [85]: \"a\"   [− Labels: AUX (1.0)]\n",
      "Span [86]: \"été\"   [− Labels: AUX (1.0)]\n",
      "Span [87]: \"diplômée\"   [− Labels: VERB (0.9791)]\n",
      "Span [88]: \"en\"   [− Labels: ADP (1.0)]\n",
      "Span [89]: \"11\"   [− Labels: NUM (0.9997)]\n",
      "Span [90]: \"/\"   [− Labels: PUNCT (0.9976)]\n",
      "Span [91]: \"11\"   [− Labels: NUM (0.9996)]\n",
      "Span [92]: \"/\"   [− Labels: PUNCT (0.9943)]\n",
      "Span [93]: \"2018\"   [− Labels: NUM (0.9997)]\n",
      "Span [94]: \",\"   [− Labels: PUNCT (1.0)]\n",
      "Span [95]: \"à\"   [− Labels: ADP (1.0)]\n",
      "Span [96]: \"l'issue\"   [− Labels: PRON (0.7505)]\n",
      "Span [97]: \"d'une\"   [− Labels: ADP (0.9688)]\n",
      "Span [98]: \"formation\"   [− Labels: NOUN (0.9999)]\n",
      "Span [99]: \"de\"   [− Labels: ADP (1.0)]\n",
      "Span [100]: \"5\"   [− Labels: NUM (1.0)]\n",
      "Span [101]: \"ans\"   [− Labels: NOUN (1.0)]\n",
      "Span [102]: \"d'ingénierie\"   [− Labels: ADJ (0.9947)]\n",
      "Span [103]: \"de\"   [− Labels: ADP (1.0)]\n",
      "Span [104]: \"2013\"   [− Labels: NUM (0.9995)]\n",
      "Span [105]: \"à\"   [− Labels: ADP (1.0)]\n",
      "Span [106]: \"2018\"   [− Labels: NUM (0.9995)]\n",
      "Span [107]: \"à\"   [− Labels: ADP (1.0)]\n",
      "Span [108]: \"l'Ecole\"   [− Labels: PROPN (0.9323)]\n",
      "Span [109]: \"Polytechnique\"   [− Labels: PROPN (0.5248)]\n",
      "Span [110]: \"à\"   [− Labels: ADP (0.9998)]\n",
      "Span [111]: \"Palaiseau\"   [− Labels: PROPN (0.9999)]\n",
      "Span [112]: \".\"   [− Labels: PUNCT (1.0)]\n"
     ]
    }
   ],
   "source": [
    "for entity in sentence.get_spans('pos-multi'):\n",
    "    print(entity)"
   ]
  },
  {
   "cell_type": "code",
   "execution_count": 109,
   "metadata": {},
   "outputs": [],
   "source": [
    "def add_inclusive(str1,str2):\n",
    "    if str1.endswith(str2):\n",
    "        return str1[:-len(str2)]+\"(\"+str2+\")\"\n",
    "    else :\n",
    "        return str1+\"(\"+str2+\")\"\n",
    "   \n",
    "def add_inclusive_adj(str1,str2,str3):\n",
    "    if str1.endswith(str2):\n",
    "        return str1+\"(\"+str3+\")\"\n",
    "    elif str1.endswith(str3):\n",
    "        return str1[:-len(str3)]+str2+\"(\"+str3+\")\"    "
   ]
  },
  {
   "cell_type": "code",
   "execution_count": 110,
   "metadata": {},
   "outputs": [
    {
     "name": "stdout",
     "output_type": "stream",
     "text": [
      "<bound method Sentence.get_token of Sentence: \"Passionnée par le développement , Emma Louise s'est installée à Paris , Son adresse mail est emma.louise @ google.com , son compte linkedin est https :// www.linkedin.com / in / el-424781150 / et elle est joignable sur + 33987609876 . elle a 26 ans vu qu'elle est née le 16 / 11 / 1994 , elle est mariée et a 2 enfants . Son numéro de sécurité sociale 2 94 11 99 205 148 . Son sexe est Féminin ( F ) . Elle a été diplômée en 11 / 11 / 2018 , à l'issue d'une formation de 5 ans d'ingénierie de 2013 à 2018 à l'Ecole Polytechnique à Palaiseau .\"   [− Tokens: 112  − Token-Labels: \"Passionnée <VERB> par <ADP> le <DET> développement <NOUN> , <PUNCT> Emma <PROPN/B-PER> Louise <PROPN/E-PER> s'est <AUX> installée <VERB> à <ADP> Paris <PROPN/S-LOC> , <PUNCT> Son <DET> adresse <NOUN> mail <NOUN> est <AUX> emma.louise <PROPN> @ <PUNCT> google.com <SYM> , <PUNCT> son <DET> compte <NOUN> linkedin <NOUN> est <AUX> https <ADJ> :// <PUNCT> www.linkedin.com <SYM> / <PUNCT> in <X> / <PUNCT> el-424781150 <X/S-MISC> / <PUNCT> et <CCONJ> elle <PRON> est <AUX> joignable <VERB> sur <ADP> + <SYM> 33987609876 <NUM> . <PUNCT> elle <PRON> a <VERB> 26 <NUM> ans <NOUN> vu <ADV> qu'elle <PRON> est <AUX> née <VERB> le <DET> 16 <NUM> / <PUNCT> 11 <NUM> / <PUNCT> 1994 <NUM> , <PUNCT> elle <PRON> est <AUX> mariée <VERB> et <CCONJ> a <VERB> 2 <NUM> enfants <NOUN> . <PUNCT> Son <DET> numéro <NOUN> de <ADP> sécurité <NOUN> sociale <ADJ> 2 <NUM> 94 <NUM> 11 <NUM> 99 <NUM> 205 <NUM> 148 <NUM> . <PUNCT> Son <DET> sexe <NOUN> est <AUX> Féminin <PROPN/S-MISC> ( <PUNCT> F <PROPN/S-LOC> ) <PUNCT> . <PUNCT> Elle <PRON> a <AUX> été <AUX> diplômée <VERB> en <ADP> 11 <NUM> / <PUNCT> 11 <NUM> / <PUNCT> 2018 <NUM> , <PUNCT> à <ADP> l'issue <PRON> d'une <ADP> formation <NOUN> de <ADP> 5 <NUM> ans <NOUN> d'ingénierie <ADJ> de <ADP> 2013 <NUM> à <ADP> 2018 <NUM> à <ADP> l'Ecole <PROPN> Polytechnique <PROPN/S-ORG> à <ADP> Palaiseau <PROPN/S-LOC> . <PUNCT>\"]>\n"
     ]
    }
   ],
   "source": [
    "print(sentence.get_token)"
   ]
  },
  {
   "cell_type": "code",
   "execution_count": 111,
   "metadata": {},
   "outputs": [],
   "source": [
    "def merging_inclusive(sentence):\n",
    "    strr=\"\"\n",
    "    for entity in sentence.get_spans()  :\n",
    "        \n",
    "        for data in entity.labels:\n",
    "            \n",
    "            if re.sub(r'\\([^)]*\\)', '', str(data))[:-1] == 'VERB' and len(entity.text)>2 :\n",
    "                #[TO DO] Tester avec l'auxiliare qui précède le verbe: si avoir, pas de changement, sinon:\n",
    "                if entity.text.endswith(\"é\") or entity.text.endswith(\"e\"):\n",
    "                    strr= strr+add_inclusive(entity.text,\"e\")+\" \"\n",
    "                elif entity.text.endswith(\"i\") or entity.text.endswith(\"ie\"):\n",
    "                    strr= strr+add_inclusive(entity.text,\"ie\")+\" \"\n",
    "                elif entity.text.endswith(\"is\") or entity.text.endswith(\"ise\"):\n",
    "                    strr= strr+add_inclusive(entity.text,\"ise\")+\" \"\n",
    "                elif entity.text.endswith(\"t\") or entity.text.endswith(\"te\"):\n",
    "                    strr= strr+add_inclusive(entity.text,\"te\")+\" \"\n",
    "                elif entity.text.endswith(\"us\") or entity.text.endswith(\"use\"): #inclus(se)\n",
    "                    strr= strr+add_inclusive(entity.text,\"use\")+\" \"\n",
    "                elif entity.text.endswith(\"u\") or entity.text.endswith(\"ue\"):\n",
    "                    strr= strr+add_inclusive(entity.text,\"ue\")+\" \"\n",
    "                else :\n",
    "                    strr= strr+entity.text+\" \"\n",
    "  \n",
    "            elif re.sub(r'\\([^)]*\\)', '', str(data))[:-1] == 'VERB' and len(entity.text)<2 :\n",
    "                strr= strr+entity.text+\" \"\n",
    "        \n",
    "        \n",
    "            elif  re.sub(r'\\([^)]*\\)', '', str(data))[:-1] == 'ADJ'  :\n",
    "                if entity.text.endswith(\"ien\") or entity.text.endswith(\"ienne\"):\n",
    "                    strr= strr+\" \"+add_inclusive_adj(entity.text,\"ien\",\"ienne\")\n",
    "                elif  entity.text.endswith(\"if\") or entity.text.endswith(\"ive\"):\n",
    "                    strr= strr+\" \"+add_inclusive_adj(entity.text,\"if\",\"ive\")\n",
    "                elif  entity.text.endswith(\"er\") or entity.text.endswith(\"ère\"):\n",
    "                    strr= strr+\" \"+add_inclusive_adj(entity.text,\"er\",\"ère\")\n",
    "                elif  entity.text.endswith(\"ier\") or entity.text.endswith(\"ière\"):\n",
    "                    strr= strr+\" \"+add_inclusive_adj(entity.text,\"ier\",\"ière\")\n",
    "                elif  entity.text.endswith(\"on\") or entity.text.endswith(\"onne\"):\n",
    "                    strr= strr+\" \"+add_inclusive_adj(entity.text,\"on\",\"ne\")\n",
    "                elif  entity.text.endswith(\"eur\") or entity.text.endswith(\"euse\"):\n",
    "                    strr= strr+\" \"+add_inclusive_adj(entity.text,\"eur\",\"euse\")\n",
    "                elif  entity.text.endswith(\"leur\") or entity.text.endswith(\"leure\"): #meilleur(e)\n",
    "                    strr= strr+\" \"+add_inclusive_adj(entity.text,\"eur\",\"eure\")\n",
    "                elif entity.text.endswith(\"é\") or entity.text.endswith(\"ée\"):\n",
    "                    strr= strr+add_inclusive(entity.text,\"ée\")+\" \"\n",
    "                else :\n",
    "                    strr= strr+entity.text+\" \"\n",
    "        \n",
    "        \n",
    "            elif  re.sub(r'\\([^)]*\\)', '', str(data))[:-1] == 'NOUN'  :                       \n",
    "                if entity.text.endswith(\"teur\") or entity.text.endswith(\"trice\"):\n",
    "                    strr= strr+\" \"+add_inclusive_adj(entity.text,\"teur\",\"trice\")\n",
    "                elif entity.text.endswith(\"ieur\") or entity.text.endswith(\"ieure\"):\n",
    "                    strr= strr+\" \"+add_inclusive_adj(entity.text,\"eur\",\"eure\")\n",
    "                elif entity.text.endswith(\"peur\") or entity.text.endswith(\"peuse\"): #développeur(euse)\n",
    "                    strr= strr+add_inclusive_adj(entity.text,\"eur\",\"euse\")+\" \"\n",
    "                else :\n",
    "                    strr= strr+\" \"+entity.text+\" \"\n",
    "                                    \n",
    "                    \n",
    "                \n",
    "            elif  entity.text == 'la' or entity.text == 'le' or entity.text == 'La' or entity.text == 'Le'  :                    \n",
    "                strr= strr+\"le/la\"+\" \"\n",
    "                \n",
    "            elif  entity.text == 'il' or entity.text == 'elle' or entity.text == 'Il' or entity.text == 'Elle'   :                    \n",
    "                strr= strr+\"il/elle\"   +\" \"             \n",
    "            elif  re.sub(r'\\([^)]*\\)', '', str(data))[:-1] == 'ADP'  :\n",
    "                strr= strr+\" \"+entity.text+\" \"\n",
    "            elif  re.sub(r'\\([^)]*\\)', '', str(data))[:-1] == 'AUX'  :\n",
    "                strr= strr+\" \"+entity.text+\" \"\n",
    "            elif  re.sub(r'\\([^)]*\\)', '', str(data))[:-1] == 'DET'  :\n",
    "                strr= strr+entity.text  +\" \"  \n",
    "            elif  re.sub(r'\\([^)]*\\)', '', str(data))[:-1] == 'CCONJ'  :\n",
    "                strr= strr+\" \" +entity.text+\" \"    \n",
    "            elif  entity.text == '.' or entity.text == ','  :\n",
    "                strr= strr+\" \" +entity.text+\" \"    \n",
    "                                                       \n",
    "                               \n",
    "            else :\n",
    "                 strr= strr+\"\"+entity.text\n",
    "    return strr"
   ]
  },
  {
   "cell_type": "code",
   "execution_count": 112,
   "metadata": {},
   "outputs": [],
   "source": [
    "entitiesListName = []\n",
    "def merging_entities(sentence):\n",
    "    entitiesList = []\n",
    "\n",
    "    \n",
    "    for entity in sentence.get_spans('fr-ner')  :\n",
    "        \n",
    "        for data in entity.labels:\n",
    "            if re.sub(r'\\([^)]*\\)', '', str(data))[:-1] == 'PER' and len(entity.text)>2 :\n",
    "                #strr= strr+\"[REDACTEDPER]\"\n",
    "                entitiesList.append(entity.text)\n",
    "                entitiesListName.append('PER')\n",
    "                \n",
    "            if re.sub(r'\\([^)]*\\)', '', str(data))[:-1] == 'LOC ' and len(entity.text)>2 :\n",
    "                #strr= strr+\"[REDACTEDLOC]\"\n",
    "                entitiesList.append(entity.text)\n",
    "                entitiesListName.append('LOC')\n",
    "                \n",
    "            if re.sub(r'\\([^)]*\\)', '', str(data))[:-1] == 'MISC' and len(entity.text)>2 :\n",
    "                #strr= strr+\"[REDACTEDMISC]\"\n",
    "                entitiesList.append(entity.text)\n",
    "                entitiesListName.append('MISC')\n",
    "                \n",
    "                                                \n",
    "            if re.sub(r'\\([^)]*\\)', '', str(data))[:-1] == 'ORG' and len(entity.text)>2 :\n",
    "               # strr= strr+\"[REDACTEDORG]\"\n",
    "                entitiesList.append(entity.text)\n",
    "                entitiesListName.append('ORG')\n",
    "                \n",
    "        \n",
    "    return entitiesList"
   ]
  },
  {
   "cell_type": "code",
   "execution_count": 113,
   "metadata": {},
   "outputs": [
    {
     "data": {
      "text/plain": [
       "['Emma Louise', 'el-424781150', 'Féminin', 'Polytechnique']"
      ]
     },
     "execution_count": 113,
     "metadata": {},
     "output_type": "execute_result"
    }
   ],
   "source": [
    "merging_entities(sentence)"
   ]
  },
  {
   "cell_type": "code",
   "execution_count": 114,
   "metadata": {},
   "outputs": [
    {
     "data": {
      "text/plain": [
       "\"Passionnée par le développement, PER s'est installée à Paris,  Son adresse  mail est emma.louise@google.com, son compte linkedin est https://www.linkedin.com/in/MISC/ et elle est joignable sur +33987609876 . elle a 26 ans vu qu'elle est née le 16/11/1994 , elle est mariée et a 2 enfants. Son numéro de sécurité sociale 2 94 11 99 205 148 . Son sexe est MISC (F) .Elle a été diplômée en 11/11/2018, à l'issue d'une formation de 5 ans d'ingénierie de 2013 à 2018 à l'Ecole ORG à Palaiseau.\""
      ]
     },
     "execution_count": 114,
     "metadata": {},
     "output_type": "execute_result"
    }
   ],
   "source": [
    "i=0\n",
    "for ent in merging_entities(sentence) :\n",
    "    if ent in phrase:\n",
    "        phrase=phrase.replace(ent,entitiesListName[i])\n",
    "    i=i+1    \n",
    "    \n",
    "phrase    "
   ]
  },
  {
   "cell_type": "code",
   "execution_count": 115,
   "metadata": {},
   "outputs": [],
   "source": [
    "sentence2 = Sentence(phrase)\n",
    "# predict PoS tags\n",
    "tagger.predict(sentence2)"
   ]
  },
  {
   "cell_type": "code",
   "execution_count": 116,
   "metadata": {},
   "outputs": [
    {
     "data": {
      "text/plain": [
       "\"Passionné(e)  par le/la  développement  , PER s'est installé(e)  à Paris , Son  adresse  mail  est emma.louise@google.com , son  compte  linkedin  est https ://www.linkedin.com/in/MISC/ et il/elle  est joignabl(e)  sur +33987609876 . il/elle a 26 ans vuqu'elle est né(e) le/la 16/11/1994 , il/elle  est marié(e)  et a 2 enfants  . Son  numéro  de  sécurité sociale 2941199205148 . Son  sexe  est MISC(F) . il/elle  a  été diplômé(e)  en 11/11/2018 ,  à l'issue d'une  formation  de 5 ans d'ingénierie  de 2013 à 2018 à l'Ecole ORG à Palaiseau . PERParisMISCMISCFORGPalaiseau\""
      ]
     },
     "execution_count": 116,
     "metadata": {},
     "output_type": "execute_result"
    }
   ],
   "source": [
    "merging_inclusive(sentence2)"
   ]
  },
  {
   "cell_type": "code",
   "execution_count": 117,
   "metadata": {},
   "outputs": [
    {
     "data": {
      "text/plain": [
       "['PER', 'MISC', 'MISC', 'ORG', 'PER', 'MISC', 'MISC', 'ORG']"
      ]
     },
     "execution_count": 117,
     "metadata": {},
     "output_type": "execute_result"
    }
   ],
   "source": [
    "entitiesListName"
   ]
  },
  {
   "cell_type": "markdown",
   "metadata": {},
   "source": [
    "## Ajout de nouvelles entités grâce au rule-based entities de Spacy"
   ]
  },
  {
   "cell_type": "code",
   "execution_count": 118,
   "metadata": {},
   "outputs": [],
   "source": [
    "matcher = Matcher(nlp.vocab)\n",
    "\n",
    "def add_email(matcher, doc, i, matches):\n",
    "    match_id, start, end = matches[i]\n",
    "    entity = Span(doc, start, end, label=\"EMAIL\")\n",
    "    doc.ents += (entity,)\n",
    "    \n",
    "def add_url(matcher, doc, i, matches):\n",
    "    match_id, start, end = matches[i]\n",
    "    entity = Span(doc, start, end, label=\"URL\")\n",
    "    doc.ents += (entity,)\n",
    "\n",
    "def add_tel(matcher, doc, i, matches):\n",
    "    match_id, start, end = matches[i]\n",
    "    entity = Span(doc, start, end, label=\"TEL\")\n",
    "    doc.ents += (entity,)\n",
    "    \n",
    "def add_Sdate(matcher, doc, i, matches):\n",
    "    match_id, start, end = matches[i]\n",
    "    entity = Span(doc, start, end, label=\"S-DATE\")\n",
    "    doc.ents += (entity,)\n",
    "def add_date(matcher, doc, i, matches):\n",
    "    match_id, start, end = matches[i]\n",
    "    entity = Span(doc, start, end, label=\"DATE\")\n",
    "    doc.ents += (entity,)\n",
    "        \n",
    "def add_verb(matcher, doc, i, matches):\n",
    "    match_id, start, end = matches[i]\n",
    "    entity = Span(doc, start, end, label=\"VERB_FEM\")\n",
    "    doc.ents += (entity,)\n",
    "def add_adj(matcher, doc, i, matches):\n",
    "    match_id, start, end = matches[i]\n",
    "    entity = Span(doc, start, end, label=\"adj fem\")\n",
    "    doc.ents += (entity,)\n",
    "def add_ssNum(matcher, doc, i, matches):\n",
    "    match_id, start, end = matches[i]\n",
    "    entity = Span(doc, start, end, label=\"NUM_SEC_SO\")\n",
    "    doc.ents += (entity,)\n",
    "def add_age(matcher, doc, i, matches):\n",
    "    match_id, start, end = matches[i]\n",
    "    entity = Span(doc, start, end, label=\"AGE\")\n",
    "    doc.ents += (entity,)\n",
    "def add_situation_fam(matcher, doc, i, matches):\n",
    "    match_id, start, end = matches[i]\n",
    "    entity = Span(doc, start, end, label=\"SIT_FAM\")\n",
    "    doc.ents += (entity,)\n",
    "def add_formation(matcher, doc, i, matches):\n",
    "    match_id, start, end = matches[i]\n",
    "    entity = Span(doc, start, end, label=\"FORMATION\")\n",
    "    doc.ents += (entity,)\n",
    "def add_enfants(matcher, doc, i, matches):\n",
    "    match_id, start, end = matches[i]\n",
    "    entity = Span(doc, start, end, label=\"nbr_enfants\")\n",
    "    doc.ents += (entity,)\n",
    "def add_sexe(matcher, doc, i, matches):\n",
    "    match_id, start, end = matches[i]\n",
    "    entity = Span(doc, start, end, label=\"sexe\")\n",
    "    doc.ents += (entity,)\n",
    "\n",
    "def add_verb(matcher, doc, i, matches):\n",
    "    match_id, start, end = matches[i]\n",
    "    entity = Span(doc, start, end, label=\"verb\")\n",
    "    doc.ents += (entity,)"
   ]
  },
  {
   "cell_type": "code",
   "execution_count": 119,
   "metadata": {},
   "outputs": [],
   "source": [
    "patternMail = [{\"LIKE_EMAIL\": True}]\n",
    "patternUrl = [{\"LIKE_URL\": True}]\n",
    "patternTel = [{\"TEXT\": {\"REGEX\": \"^\\+*\\d{11}$\"}}]\n",
    "patternSecS = [{\"TEXT\": {\"REGEX\": \"^\\+*\\d{13}$\"}}]\n",
    "#[{\"SHAPE\": \"d\"}, {\"SHAPE\": \"dd\"}, {\"SHAPE\": \"dd\"}, {\"SHAPE\": \"dd\"}, {\"SHAPE\": \"ddd\"}, {\"SHAPE\": \"ddd\"}]\n",
    "patternSDate = [{\"SHAPE\": \"dddd\", \"LENGTH\": 4}]\n",
    "patternDate = [{\"TEXT\": {\"REGEX\": \"^(0[1-9]|[12][0-9]|3[01])[- /.](0[1-9]|1[012])[- /.](19|20)\\d\\d$\"}}]\n",
    "patternVerbFem = [{\"POS\": \"VERB\",\"TEXT\": {\"REGEX\": \"ée$\"}}]\n",
    "patternAge = [{\"ORTH\": \"age\"}, {\"ORTH\": \":\"}, {}]\n",
    "patternAge2 = [{\"ORTH\": \"a\"},{},{\"ORTH\": \"ans\"} ]\n",
    "patternFormation = [{\"ORTH\": \"de\"},{},{\"ORTH\": \"ans\"} ]\n",
    "patternEnfants = [{},{\"ORTH\": \"enfants\"} ,{\"ORTH\": \"s\", \"OP\":\"?\"}]\n",
    "patternFamil =[{\"TEXT\": {\"REGEX\": \"^marié(e)$\"}}]\n",
    "               # {\"ORTH\": \"pacsé(e)\", \"OP\":\"?\"},{\"ORTH\": \"divorcé(e)\", \"OP\":\"?\"},{\"ORTH\": \"séparé(e)\", \"OP\":\"?\"},{\"ORTH\": \"célibataire\", \"OP\":\"?\"},{\"ORTH\": \"veuf\", \"OP\":\"?\"} ]\n",
    "patternSexe = [{\"ORTH\": \"(M)\", \"OP\":\"?\"},{\"ORTH\": \"(F)\", \"OP\":\"?\"} ]"
   ]
  },
  {
   "cell_type": "code",
   "execution_count": 120,
   "metadata": {},
   "outputs": [],
   "source": [
    "matcher = Matcher(nlp.vocab)\n",
    "matcher.add(\"mail\", add_email, patternMail)\n",
    "matcher.add(\"url\", add_url, patternUrl)\n",
    "matcher.add(\"tel\", add_tel, patternTel)\n",
    "matcher.add(\"sec\", add_ssNum, patternSecS)\n",
    "matcher.add(\"date\", add_date, patternDate)\n",
    "matcher.add(\"Sdate\", add_Sdate, patternSDate)\n",
    "#matcher.add(\"VerbFem\", add_verb, patternVerbFem)\n",
    "matcher.add(\"Age\", add_age, patternAge)\n",
    "matcher.add(\"Age2\", add_age, patternAge2)\n",
    "matcher.add(\"situation\", add_situation_fam, patternFamil)\n",
    "matcher.add(\"formation\", add_formation, patternFormation)\n",
    "matcher.add(\"enfants\", add_enfants, patternEnfants)\n",
    "matcher.add(\"sexe\", add_sexe, patternSexe)\n",
    "#matcher.add(\"verb\", add_verb, patternVerb)\n",
    "#matcher.add(\"adj\", add_adj, pattern1)"
   ]
  },
  {
   "cell_type": "code",
   "execution_count": 121,
   "metadata": {},
   "outputs": [],
   "source": [
    "doc = nlp(merging_inclusive(sentence2))"
   ]
  },
  {
   "cell_type": "code",
   "execution_count": 122,
   "metadata": {},
   "outputs": [],
   "source": [
    "matches = matcher(doc)"
   ]
  },
  {
   "cell_type": "code",
   "execution_count": 123,
   "metadata": {},
   "outputs": [],
   "source": [
    "colors = {\"URL\": \"linear-gradient(90deg, #aa9cfc, #fc9ce7)\",\n",
    "          \"EMAIL\": \"RGB(241, 13, 105)\",\n",
    "          \"TEL\" : \"RGB(95, 205, 231)\",\n",
    "          \"LOC\" : \"RGB(32, 240, 171)\",\n",
    "          \"PER\" : \"RGB(200, 232, 40)\",\n",
    "          \"VERB_FEM\" : \"linear-gradient(90dgg, #aa4cfc, #fj7ce7)\"\n",
    "         }"
   ]
  },
  {
   "cell_type": "code",
   "execution_count": 124,
   "metadata": {},
   "outputs": [
    {
     "data": {
      "text/html": [
       "<span class=\"tex2jax_ignore\"><div class=\"entities\" style=\"line-height: 2.5; direction: ltr\">Passionné(e)  par le/la  développement  , PER s'est installé(e)  à \n",
       "<mark class=\"entity\" style=\"background: RGB(32, 240, 171); padding: 0.45em 0.6em; margin: 0 0.25em; line-height: 1; border-radius: 0.35em;\">\n",
       "    Paris\n",
       "    <span style=\"font-size: 0.8em; font-weight: bold; line-height: 1; border-radius: 0.35em; text-transform: uppercase; vertical-align: middle; margin-left: 0.5rem\">LOC</span>\n",
       "</mark>\n",
       " , \n",
       "<mark class=\"entity\" style=\"background: #ddd; padding: 0.45em 0.6em; margin: 0 0.25em; line-height: 1; border-radius: 0.35em;\">\n",
       "    Son  adresse  mail  \n",
       "    <span style=\"font-size: 0.8em; font-weight: bold; line-height: 1; border-radius: 0.35em; text-transform: uppercase; vertical-align: middle; margin-left: 0.5rem\">MISC</span>\n",
       "</mark>\n",
       "est \n",
       "<mark class=\"entity\" style=\"background: RGB(241, 13, 105); padding: 0.45em 0.6em; margin: 0 0.25em; line-height: 1; border-radius: 0.35em;\">\n",
       "    emma.louise@google.com\n",
       "    <span style=\"font-size: 0.8em; font-weight: bold; line-height: 1; border-radius: 0.35em; text-transform: uppercase; vertical-align: middle; margin-left: 0.5rem\">EMAIL</span>\n",
       "</mark>\n",
       " , son  compte  linkedin  est https :\n",
       "<mark class=\"entity\" style=\"background: linear-gradient(90deg, #aa9cfc, #fc9ce7); padding: 0.45em 0.6em; margin: 0 0.25em; line-height: 1; border-radius: 0.35em;\">\n",
       "    //www.linkedin.com\n",
       "    <span style=\"font-size: 0.8em; font-weight: bold; line-height: 1; border-radius: 0.35em; text-transform: uppercase; vertical-align: middle; margin-left: 0.5rem\">URL</span>\n",
       "</mark>\n",
       "/in/\n",
       "<mark class=\"entity\" style=\"background: #ddd; padding: 0.45em 0.6em; margin: 0 0.25em; line-height: 1; border-radius: 0.35em;\">\n",
       "    MISC/\n",
       "    <span style=\"font-size: 0.8em; font-weight: bold; line-height: 1; border-radius: 0.35em; text-transform: uppercase; vertical-align: middle; margin-left: 0.5rem\">MISC</span>\n",
       "</mark>\n",
       " et il/elle  est joignabl(e)  sur \n",
       "<mark class=\"entity\" style=\"background: RGB(95, 205, 231); padding: 0.45em 0.6em; margin: 0 0.25em; line-height: 1; border-radius: 0.35em;\">\n",
       "    +33987609876\n",
       "    <span style=\"font-size: 0.8em; font-weight: bold; line-height: 1; border-radius: 0.35em; text-transform: uppercase; vertical-align: middle; margin-left: 0.5rem\">TEL</span>\n",
       "</mark>\n",
       " . il/elle \n",
       "<mark class=\"entity\" style=\"background: #ddd; padding: 0.45em 0.6em; margin: 0 0.25em; line-height: 1; border-radius: 0.35em;\">\n",
       "    a 26 ans\n",
       "    <span style=\"font-size: 0.8em; font-weight: bold; line-height: 1; border-radius: 0.35em; text-transform: uppercase; vertical-align: middle; margin-left: 0.5rem\">AGE</span>\n",
       "</mark>\n",
       " vuqu'elle est né(e) le/la \n",
       "<mark class=\"entity\" style=\"background: #bfe1d9; padding: 0.45em 0.6em; margin: 0 0.25em; line-height: 1; border-radius: 0.35em;\">\n",
       "    16/11/1994\n",
       "    <span style=\"font-size: 0.8em; font-weight: bold; line-height: 1; border-radius: 0.35em; text-transform: uppercase; vertical-align: middle; margin-left: 0.5rem\">DATE</span>\n",
       "</mark>\n",
       " , il/elle  est marié(e)  et a \n",
       "<mark class=\"entity\" style=\"background: #ddd; padding: 0.45em 0.6em; margin: 0 0.25em; line-height: 1; border-radius: 0.35em;\">\n",
       "    2 enfants\n",
       "    <span style=\"font-size: 0.8em; font-weight: bold; line-height: 1; border-radius: 0.35em; text-transform: uppercase; vertical-align: middle; margin-left: 0.5rem\">nbr_enfants</span>\n",
       "</mark>\n",
       "  . Son  numéro  de  sécurité sociale \n",
       "<mark class=\"entity\" style=\"background: #ddd; padding: 0.45em 0.6em; margin: 0 0.25em; line-height: 1; border-radius: 0.35em;\">\n",
       "    2941199205148\n",
       "    <span style=\"font-size: 0.8em; font-weight: bold; line-height: 1; border-radius: 0.35em; text-transform: uppercase; vertical-align: middle; margin-left: 0.5rem\">NUM_SEC_SO</span>\n",
       "</mark>\n",
       " . Son  sexe  est \n",
       "<mark class=\"entity\" style=\"background: RGB(200, 232, 40); padding: 0.45em 0.6em; margin: 0 0.25em; line-height: 1; border-radius: 0.35em;\">\n",
       "    MISC(F\n",
       "    <span style=\"font-size: 0.8em; font-weight: bold; line-height: 1; border-radius: 0.35em; text-transform: uppercase; vertical-align: middle; margin-left: 0.5rem\">PER</span>\n",
       "</mark>\n",
       ") . il/elle  a  été diplômé(e)  en \n",
       "<mark class=\"entity\" style=\"background: #bfe1d9; padding: 0.45em 0.6em; margin: 0 0.25em; line-height: 1; border-radius: 0.35em;\">\n",
       "    11/11/2018\n",
       "    <span style=\"font-size: 0.8em; font-weight: bold; line-height: 1; border-radius: 0.35em; text-transform: uppercase; vertical-align: middle; margin-left: 0.5rem\">DATE</span>\n",
       "</mark>\n",
       " ,  à l'issue d'une  formation  \n",
       "<mark class=\"entity\" style=\"background: #ddd; padding: 0.45em 0.6em; margin: 0 0.25em; line-height: 1; border-radius: 0.35em;\">\n",
       "    de 5 ans\n",
       "    <span style=\"font-size: 0.8em; font-weight: bold; line-height: 1; border-radius: 0.35em; text-transform: uppercase; vertical-align: middle; margin-left: 0.5rem\">FORMATION</span>\n",
       "</mark>\n",
       " d'ingénierie  de \n",
       "<mark class=\"entity\" style=\"background: #ddd; padding: 0.45em 0.6em; margin: 0 0.25em; line-height: 1; border-radius: 0.35em;\">\n",
       "    2013\n",
       "    <span style=\"font-size: 0.8em; font-weight: bold; line-height: 1; border-radius: 0.35em; text-transform: uppercase; vertical-align: middle; margin-left: 0.5rem\">S-DATE</span>\n",
       "</mark>\n",
       " à \n",
       "<mark class=\"entity\" style=\"background: #ddd; padding: 0.45em 0.6em; margin: 0 0.25em; line-height: 1; border-radius: 0.35em;\">\n",
       "    2018\n",
       "    <span style=\"font-size: 0.8em; font-weight: bold; line-height: 1; border-radius: 0.35em; text-transform: uppercase; vertical-align: middle; margin-left: 0.5rem\">S-DATE</span>\n",
       "</mark>\n",
       " à l'\n",
       "<mark class=\"entity\" style=\"background: #7aecec; padding: 0.45em 0.6em; margin: 0 0.25em; line-height: 1; border-radius: 0.35em;\">\n",
       "    Ecole ORG\n",
       "    <span style=\"font-size: 0.8em; font-weight: bold; line-height: 1; border-radius: 0.35em; text-transform: uppercase; vertical-align: middle; margin-left: 0.5rem\">ORG</span>\n",
       "</mark>\n",
       " à \n",
       "<mark class=\"entity\" style=\"background: RGB(32, 240, 171); padding: 0.45em 0.6em; margin: 0 0.25em; line-height: 1; border-radius: 0.35em;\">\n",
       "    Palaiseau\n",
       "    <span style=\"font-size: 0.8em; font-weight: bold; line-height: 1; border-radius: 0.35em; text-transform: uppercase; vertical-align: middle; margin-left: 0.5rem\">LOC</span>\n",
       "</mark>\n",
       " . PERParisMISCMISCFORGPalaiseau</div></span>"
      ],
      "text/plain": [
       "<IPython.core.display.HTML object>"
      ]
     },
     "metadata": {},
     "output_type": "display_data"
    }
   ],
   "source": [
    "options = { \"colors\": colors}\n",
    "displacy.render(doc, style=\"ent\", options=options)"
   ]
  },
  {
   "cell_type": "markdown",
   "metadata": {},
   "source": [
    "## Anonymisation"
   ]
  },
  {
   "cell_type": "code",
   "execution_count": 125,
   "metadata": {},
   "outputs": [
    {
     "name": "stderr",
     "output_type": "stream",
     "text": [
      "/Users/amalbedoui/opt/anaconda3/envs/retd/lib/python3.7/site-packages/ipykernel_launcher.py:36: DeprecationWarning: [W013] As of v2.1.0, Span.merge is deprecated. Please use the more efficient and less error-prone Doc.retokenize context manager instead.\n",
      "/Users/amalbedoui/opt/anaconda3/envs/retd/lib/python3.7/site-packages/ipykernel_launcher.py:36: DeprecationWarning: [W013] As of v2.1.0, Doc.merge is deprecated. Please use the more efficient and less error-prone Doc.retokenize context manager instead.\n"
     ]
    },
    {
     "data": {
      "text/plain": [
       "\"Passionné(e)  par le/la  développement  , PER s'est installé(e)  à [REDACTEDLOC] , [REDACTEDMISC] est [REDACTEDEMAIL] , son  compte  linkedin  est https :[REDACTEDURL] /in/[REDACTEDMISC] et il/il  est joignabl(e)  sur [REDACTEDTEL] . il/il [REDACTEDAGE] vuqu'il est né(e) le/la [REDACTEDDATE] , il/il  est marié(e)  et a 2 enfants  . Son  numéro  de  sécurité sociale [REDACTEDNUM_SEC_SO] . Son  sexe  est [REDACTEDPER] ) . il/il  a  été diplômé(e)  en [REDACTEDDATE] ,  à l'issue d'une  formation  [REDACTEDFORMATION] d'ingénierie  de [REDACTEDS-DATE] à [REDACTEDS-DATE] à l'Ecole ORG à [REDACTEDLOC] . PERParisMISCMISCFORGPalaiseau\""
      ]
     },
     "execution_count": 125,
     "metadata": {},
     "output_type": "execute_result"
    }
   ],
   "source": [
    "def anonymize_entities(token):\n",
    "    if token.ent_iob != 0 and token.ent_type_ == 'PER':\n",
    "        return '[REDACTEDPER] '\n",
    "    if token.ent_iob != 0 and token.ent_type_ == 'MISC':\n",
    "        return '[REDACTEDMISC] '    \n",
    "    if token.ent_iob != 0 and token.ent_type_ == 'LOC':\n",
    "        return '[REDACTEDLOC] '\n",
    "    if token.ent_iob != 0 and token.ent_type_ == 'EMAIL':\n",
    "        return '[REDACTEDEMAIL] '\n",
    "    if token.ent_iob != 0 and token.ent_type_ == 'TEL':\n",
    "        return '[REDACTEDTEL] '\n",
    "    if token.ent_iob != 0 and token.ent_type_ == 'URL':\n",
    "        return '[REDACTEDURL] '\n",
    "    if token.ent_iob != 0 and token.ent_type_ == 'S-DATE':\n",
    "        return '[REDACTEDS-DATE] '\n",
    "    if token.ent_iob != 0 and token.ent_type_ == 'DATE':\n",
    "        return '[REDACTEDDATE] '\n",
    "    if token.ent_iob != 0 and token.ent_type_ == 'NUM_SEC_SO':\n",
    "        return '[REDACTEDNUM_SEC_SO] '\n",
    "    if token.ent_iob != 0 and token.ent_type_ == 'AGE':\n",
    "        return '[REDACTEDAGE] '\n",
    "    if token.ent_iob != 0 and token.ent_type_ == 'SIT_FAM':\n",
    "        return '[REDACTEDSIT_FAM] '\n",
    "    if token.ent_iob != 0 and token.ent_type_ == 'FORMATION':\n",
    "        return '[REDACTEDFORMATION] '\n",
    "    if token.ent_iob != 0 and token.ent_type_ == 'NBR_ENFANTS':\n",
    "        return '[REDACTEDNBR_ENFANTS] '\n",
    "    if token.ent_iob != 0 and token.ent_type_ == 'VERB_FEM':\n",
    "        return token.text[:-1]+' '    \n",
    "    if token.text == 'elle':\n",
    "        return 'il '    \n",
    "    return token.string\n",
    "\n",
    "def redact_names(nlp_doc):\n",
    "    for ent in nlp_doc.ents:        \n",
    "        ent.merge()\n",
    "    tokens = map(anonymize_entities, nlp_doc)\n",
    "    return ''.join(tokens)\n",
    "\n",
    "redact_names(doc)"
   ]
  }
 ],
 "metadata": {
  "kernelspec": {
   "display_name": "Python 3",
   "language": "python",
   "name": "python3"
  },
  "language_info": {
   "codemirror_mode": {
    "name": "ipython",
    "version": 3
   },
   "file_extension": ".py",
   "mimetype": "text/x-python",
   "name": "python",
   "nbconvert_exporter": "python",
   "pygments_lexer": "ipython3",
   "version": "3.7.9"
  }
 },
 "nbformat": 4,
 "nbformat_minor": 4
}
