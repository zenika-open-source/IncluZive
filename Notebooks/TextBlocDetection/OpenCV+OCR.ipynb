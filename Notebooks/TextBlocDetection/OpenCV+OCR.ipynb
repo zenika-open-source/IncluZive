{
 "cells": [
  {
   "cell_type": "code",
   "execution_count": 1,
   "metadata": {},
   "outputs": [],
   "source": [
    "# importing modules\n",
    "import cv2\n",
    "import pytesseract\n",
    "from pytesseract import Output\n",
    "import csv"
   ]
  },
  {
   "cell_type": "markdown",
   "metadata": {},
   "source": [
    "# Exemple 1"
   ]
  },
  {
   "cell_type": "code",
   "execution_count": 2,
   "metadata": {},
   "outputs": [],
   "source": [
    "# reading image using opencv\n",
    "pytesseract.pytesseract.tesseract_cmd = r'C:\\Program Files\\Tesseract-OCR\\tesseract.exe' \n",
    "\n",
    "image = cv2.imread('capture.png')\n",
    "#converting image into gray scale image\n",
    "gray_image = cv2.cvtColor(image, cv2.COLOR_BGR2GRAY)\n",
    "# converting it to binary image by Thresholding\n",
    "# this step is require if you have colored image because if you skip this part \n",
    "# then tesseract won't able to detect text correctly and this will give incorrect result\n",
    "threshold_img = cv2.threshold(gray_image, 0, 255, cv2.THRESH_BINARY | cv2.THRESH_OTSU)[1]\n",
    "# display image\n",
    "cv2.imshow('threshold image', threshold_img)\n",
    "# Maintain output window until user presses a key\n",
    "cv2.waitKey(0)\n",
    "# Destroying present windows on screen\n",
    "cv2.destroyAllWindows()"
   ]
  },
  {
   "cell_type": "code",
   "execution_count": 3,
   "metadata": {},
   "outputs": [
    {
     "name": "stdout",
     "output_type": "stream",
     "text": [
      "dict_keys(['level', 'page_num', 'block_num', 'par_num', 'line_num', 'word_num', 'left', 'top', 'width', 'height', 'conf', 'text'])\n"
     ]
    }
   ],
   "source": [
    "#configuring parameters for tesseract\n",
    "custom_config = r'--oem 3 --psm 6'\n",
    "# now feeding image to tesseract\n",
    "details = pytesseract.image_to_data(threshold_img, output_type=Output.DICT, config=custom_config, lang='fra')\n",
    "print(details.keys())"
   ]
  },
  {
   "cell_type": "code",
   "execution_count": 4,
   "metadata": {},
   "outputs": [
    {
     "name": "stdout",
     "output_type": "stream",
     "text": [
      " 0\n",
      " 59\n",
      " 59\n",
      " 59\n",
      "TO 59\n",
      "DO 83\n",
      "7 114\n",
      "IN 412\n",
      "PROGRESS 432\n",
      "1 516\n",
      " 65\n",
      "Review 65\n",
      "Design 123\n",
      "Integrate 418\n",
      "REDUX 492\n",
      " 90\n",
      "DEISERTAPP-59 90\n",
      "DEISERIAPP-58 442\n",
      " 64\n",
      "Complete 64\n",
      "Unit 145\n",
      "Tests 180\n",
      " 65\n",
      " 90\n",
      "DEISERIAPP-60 90\n",
      " 65\n",
      " 65\n",
      "User 65\n",
      "modify 104\n",
      "profile 163\n",
      " 65\n",
      " 90\n",
      "DEISERTAPP-62 90\n",
      " 64\n",
      " 64\n",
      "Admin 64\n",
      "submitted 120\n",
      "form 203\n",
      "Version 244\n",
      " 65\n",
      " 90\n",
      "DEISERTAPP-63 90\n"
     ]
    }
   ],
   "source": [
    "total_boxes = len(details['text'])\n",
    "for sequence_number in range(total_boxes):\n",
    "\tprint(details['text'][sequence_number] ,details['left'][sequence_number] )"
   ]
  },
  {
   "cell_type": "code",
   "execution_count": 5,
   "metadata": {},
   "outputs": [],
   "source": [
    "for sequence_number in range(total_boxes):\n",
    "\tif int(details['conf'][sequence_number]) >30:\n",
    "\t\t(x, y, w, h) = (details['left'][sequence_number], details['top'][sequence_number], details['width'][sequence_number],  details['height'][sequence_number])\n",
    "\t\tthreshold_img = cv2.rectangle(threshold_img, (x, y), (x + w, y + h), (0, 255, 0), 2)\n",
    "# display image\n",
    "cv2.imshow('captured text', threshold_img)\n",
    "# Maintain output window until user presses a key\n",
    "cv2.waitKey(0)\n",
    "# Destroying present windows on screen\n",
    "cv2.destroyAllWindows()"
   ]
  },
  {
   "cell_type": "code",
   "execution_count": 6,
   "metadata": {},
   "outputs": [],
   "source": [
    "parse_text = []\n",
    "word_list = []\n",
    "last_word = ''\n",
    "for word in details['text']:\n",
    "    if word!='':\n",
    "        word_list.append(word)\n",
    "        last_word = word\n",
    "    if (last_word!='' and word == '') or (word==details['text'][-1]):\n",
    "        parse_text.append(word_list)\n",
    "        word_list = []"
   ]
  },
  {
   "cell_type": "code",
   "execution_count": 7,
   "metadata": {},
   "outputs": [],
   "source": [
    "with open('result_text.txt',  'w', newline=\"\") as file:\n",
    "    csv.writer(file, delimiter=\" \").writerows(parse_text)"
   ]
  },
  {
   "cell_type": "markdown",
   "metadata": {},
   "source": [
    "# Exemple 2"
   ]
  },
  {
   "cell_type": "code",
   "execution_count": 8,
   "metadata": {},
   "outputs": [],
   "source": [
    "# reading image using opencv\n",
    "pytesseract.pytesseract.tesseract_cmd = r'C:\\Program Files\\Tesseract-OCR\\tesseract.exe' \n",
    "\n",
    "image = cv2.imread('capture1.jpg')\n",
    "#converting image into gray scale image\n",
    "gray_image = cv2.cvtColor(image, cv2.COLOR_BGR2GRAY)\n",
    "# converting it to binary image by Thresholding\n",
    "# this step is require if you have colored image because if you skip this part \n",
    "# then tesseract won't able to detect text correctly and this will give incorrect result\n",
    "threshold_img = cv2.threshold(gray_image, 0, 255, cv2.THRESH_BINARY | cv2.THRESH_OTSU)[1]\n",
    "# display image\n",
    "cv2.imshow('threshold image', threshold_img)\n",
    "# Maintain output window until user presses a key\n",
    "cv2.waitKey(0)\n",
    "# Destroying present windows on screen\n",
    "cv2.destroyAllWindows()"
   ]
  },
  {
   "cell_type": "code",
   "execution_count": 9,
   "metadata": {},
   "outputs": [
    {
     "name": "stdout",
     "output_type": "stream",
     "text": [
      "dict_keys(['level', 'page_num', 'block_num', 'par_num', 'line_num', 'word_num', 'left', 'top', 'width', 'height', 'conf', 'text'])\n"
     ]
    }
   ],
   "source": [
    "#configuring parameters for tesseract\n",
    "custom_config = r'--oem 3 --psm 6'\n",
    "# now feeding image to tesseract\n",
    "details = pytesseract.image_to_data(threshold_img, output_type=Output.DICT, config=custom_config, lang='fra')\n",
    "print(details.keys())"
   ]
  },
  {
   "cell_type": "code",
   "execution_count": 10,
   "metadata": {},
   "outputs": [
    {
     "name": "stdout",
     "output_type": "stream",
     "text": [
      " 0\n",
      " 45\n",
      " 47\n",
      " 47\n",
      "Cher.e.s 47\n",
      "ami.e.s, 146\n",
      " 45\n",
      " 46\n",
      "Engagé.e.s 46\n",
      "auprès 175\n",
      "d'Emmanuel 252\n",
      "Macron, 388\n",
      "nous 479\n",
      " 46\n",
      "sommes 46\n",
      "des 148\n",
      "adhérent.e.s, 195\n",
      "des 352\n",
      "parlementaires, 391\n",
      " 47\n",
      "des 47\n",
      "référent.e.s, 92\n",
      "des 241\n",
      "élu.e.s 287\n",
      "de 368\n",
      "collectivités 399\n",
      " 47\n",
      "locales 47\n",
      "; 122\n",
      "nous 135\n",
      "sommes 191\n",
      "issu.e.s 284\n",
      "de 375\n",
      "la 406\n",
      "ruralité, 431\n",
      "de 518\n",
      "la 549\n",
      " 47\n",
      "ville, 47\n",
      "de 97\n",
      "la 128\n",
      "banlieue 154\n",
      "ou 248\n",
      "de 282\n",
      "l'outre-mer 313\n",
      "; 430\n",
      "nous 443\n",
      "venons 501\n",
      " 47\n",
      "de 47\n",
      "la 78\n",
      "société 103\n",
      "civile 179\n",
      ": 236\n",
      "professions 245\n",
      "libérales, 369\n",
      "chef.fe.s 466\n",
      " 47\n",
      "d'entreprises, 47\n",
      "salarié.e.s 186\n",
      "du 312\n",
      "privé 344\n",
      "et 401\n",
      "du 426\n",
      "public 458\n",
      "; 528\n",
      " 47\n",
      "nous 47\n",
      "venons 104\n",
      "de 182\n",
      "la 213\n",
      "droite, 239\n",
      "de 311\n",
      "la 341\n",
      "gauche 365\n",
      "ou 448\n",
      "du 482\n",
      " 47\n",
      "centre 47\n",
      "ou 116\n",
      "connaissons 149\n",
      "notre 283\n",
      "premier 342\n",
      "engagement 431\n",
      " 45\n",
      "politique. 45\n",
      "Certain.e.s 149\n",
      "d'entre 280\n",
      "nous 355\n",
      "ont 412\n",
      "fondé 453\n",
      "ce 518\n",
      " 47\n",
      "Mouvement 47\n",
      "aux 175\n",
      "côtés 219\n",
      "d'Emmanuel 278\n",
      "Macron, 414\n",
      " 47\n",
      "d'autres 47\n",
      "l'ont 135\n",
      "rejoint 184\n",
      "en 257\n",
      "marche. 288\n",
      "Tout 380\n",
      "comme 431\n",
      "vous, 515\n",
      " 47\n",
      "nous 47\n",
      "sommes 103\n",
      "avant 196\n",
      "tout 262\n",
      "des 309\n",
      "marcheuses 350\n",
      "et 480\n",
      "des 505\n",
      " 47\n",
      "marcheurs. 47\n"
     ]
    }
   ],
   "source": [
    "total_boxes = len(details['text'])\n",
    "for sequence_number in range(total_boxes):\n",
    "\tprint(details['text'][sequence_number] ,details['left'][sequence_number] )"
   ]
  },
  {
   "cell_type": "code",
   "execution_count": 11,
   "metadata": {},
   "outputs": [],
   "source": [
    "for sequence_number in range(total_boxes):\n",
    "\tif int(details['conf'][sequence_number]) >30:\n",
    "\t\t(x, y, w, h) = (details['left'][sequence_number], details['top'][sequence_number], details['width'][sequence_number],  details['height'][sequence_number])\n",
    "\t\tthreshold_img = cv2.rectangle(threshold_img, (x, y), (x + w, y + h), (0, 255, 0), 2)\n",
    "# display image\n",
    "cv2.imshow('captured text', threshold_img)\n",
    "# Maintain output window until user presses a key\n",
    "cv2.waitKey(0)\n",
    "# Destroying present windows on screen\n",
    "cv2.destroyAllWindows()"
   ]
  },
  {
   "cell_type": "code",
   "execution_count": 12,
   "metadata": {},
   "outputs": [],
   "source": [
    "parse_text = []\n",
    "word_list = []\n",
    "last_word = ''\n",
    "for word in details['text']:\n",
    "    if word!='':\n",
    "        word_list.append(word)\n",
    "        last_word = word\n",
    "    if (last_word!='' and word == '') or (word==details['text'][-1]):\n",
    "        parse_text.append(word_list)\n",
    "        word_list = []"
   ]
  },
  {
   "cell_type": "code",
   "execution_count": 13,
   "metadata": {},
   "outputs": [],
   "source": [
    "with open('result_text1.txt',  'w', newline=\"\") as file:\n",
    "    csv.writer(file, delimiter=\" \").writerows(parse_text)"
   ]
  }
 ],
 "metadata": {
  "kernelspec": {
   "display_name": "Python 3",
   "language": "python",
   "name": "python3"
  },
  "language_info": {
   "codemirror_mode": {
    "name": "ipython",
    "version": 3
   },
   "file_extension": ".py",
   "mimetype": "text/x-python",
   "name": "python",
   "nbconvert_exporter": "python",
   "pygments_lexer": "ipython3",
   "version": "3.8.5"
  }
 },
 "nbformat": 4,
 "nbformat_minor": 4
}
