{
 "cells": [
  {
   "cell_type": "code",
   "execution_count": 1,
   "metadata": {},
   "outputs": [],
   "source": [
    "import glob\n",
    "import ntpath\n",
    "import os\n",
    "\n",
    "import matplotlib.pyplot as plt\n",
    "import numpy as np\n",
    "import pandas as pd\n",
    "from matplotlib.patches import Patch\n",
    "from sklearn.metrics import f1_score, accuracy_score, recall_score, precision_score, classification_report, multilabel_confusion_matrix\n",
    "\n",
    "%matplotlib inline"
   ]
  },
  {
   "cell_type": "code",
   "execution_count": 34,
   "metadata": {
    "tags": [
     "parameters"
    ]
   },
   "outputs": [],
   "source": [
    "path = os.getcwd()\n",
    "reports_path = os.path.join(path, '../../reports')"
   ]
  },
  {
   "cell_type": "code",
   "execution_count": 3,
   "metadata": {
    "pycharm": {
     "name": "#%%\n"
    }
   },
   "outputs": [],
   "source": [
    "files_true = glob.glob(path + '/data_true/*.xlsx')\n",
    "files_pred = glob.glob(path + '/data_pred/*.xlsx')"
   ]
  },
  {
   "cell_type": "code",
   "execution_count": 4,
   "metadata": {},
   "outputs": [],
   "source": [
    "df_true = pd.DataFrame()\n",
    "for f in files_true:\n",
    "    data = pd.read_excel(f, engine='openpyxl')\n",
    "    data = data[['Entity', 'Label']]\n",
    "    df_true = df_true.append(data)"
   ]
  },
  {
   "cell_type": "code",
   "execution_count": 5,
   "metadata": {},
   "outputs": [],
   "source": [
    "filenames_true = {ntpath.basename(file) for file in files_true}\n",
    "df_pred = pd.DataFrame()\n",
    "for f in files_pred:\n",
    "    if ntpath.basename(f) in filenames_true:\n",
    "        data = pd.read_excel(f, engine='openpyxl')\n",
    "        data = data[['Entity', 'Label']]\n",
    "        df_pred = df_pred.append(data)"
   ]
  },
  {
   "cell_type": "code",
   "execution_count": 6,
   "metadata": {},
   "outputs": [],
   "source": [
    "df_true = df_true[df_true['Entity'].notna()]"
   ]
  },
  {
   "cell_type": "code",
   "execution_count": 7,
   "metadata": {},
   "outputs": [
    {
     "data": {
      "text/plain": [
       "(54, 2)"
      ]
     },
     "execution_count": 7,
     "metadata": {},
     "output_type": "execute_result"
    }
   ],
   "source": [
    "df_true.shape"
   ]
  },
  {
   "cell_type": "code",
   "execution_count": 8,
   "metadata": {},
   "outputs": [
    {
     "data": {
      "text/plain": [
       "(246, 2)"
      ]
     },
     "execution_count": 8,
     "metadata": {},
     "output_type": "execute_result"
    }
   ],
   "source": [
    "df_pred.shape"
   ]
  },
  {
   "cell_type": "code",
   "execution_count": 9,
   "metadata": {},
   "outputs": [],
   "source": [
    "df = pd.merge(df_true, df_pred, on=['Entity'], how='outer').drop_duplicates().fillna(\"O\")"
   ]
  },
  {
   "cell_type": "code",
   "execution_count": 10,
   "metadata": {},
   "outputs": [],
   "source": [
    "df.columns = ['Entity', 'y_true', 'y_pred']"
   ]
  },
  {
   "cell_type": "code",
   "execution_count": 11,
   "metadata": {},
   "outputs": [
    {
     "data": {
      "text/plain": [
       "(45, 3)"
      ]
     },
     "execution_count": 11,
     "metadata": {},
     "output_type": "execute_result"
    }
   ],
   "source": [
    "df.shape"
   ]
  },
  {
   "cell_type": "code",
   "execution_count": 12,
   "metadata": {},
   "outputs": [],
   "source": [
    "y_true = df.iloc[:, 1]"
   ]
  },
  {
   "cell_type": "code",
   "execution_count": 13,
   "metadata": {},
   "outputs": [],
   "source": [
    "y_pred = df.iloc[:, 2]"
   ]
  },
  {
   "cell_type": "markdown",
   "metadata": {},
   "source": [
    "### Métriques globales"
   ]
  },
  {
   "cell_type": "code",
   "execution_count": 14,
   "metadata": {},
   "outputs": [
    {
     "data": {
      "text/plain": [
       "0.7555555555555555"
      ]
     },
     "execution_count": 14,
     "metadata": {},
     "output_type": "execute_result"
    }
   ],
   "source": [
    "accuracy_score(y_true, y_pred)"
   ]
  },
  {
   "cell_type": "code",
   "execution_count": 15,
   "metadata": {},
   "outputs": [
    {
     "data": {
      "text/plain": [
       "0.8042735042735043"
      ]
     },
     "execution_count": 15,
     "metadata": {},
     "output_type": "execute_result"
    }
   ],
   "source": [
    "recall_score(y_true, y_pred, average=\"macro\")"
   ]
  },
  {
   "cell_type": "code",
   "execution_count": 16,
   "metadata": {},
   "outputs": [
    {
     "data": {
      "text/plain": [
       "0.8623737373737375"
      ]
     },
     "execution_count": 16,
     "metadata": {},
     "output_type": "execute_result"
    }
   ],
   "source": [
    "precision_score(y_true, y_pred, average=\"macro\")"
   ]
  },
  {
   "cell_type": "code",
   "execution_count": 17,
   "metadata": {},
   "outputs": [
    {
     "data": {
      "text/plain": [
       "0.8226495726495726"
      ]
     },
     "execution_count": 17,
     "metadata": {},
     "output_type": "execute_result"
    }
   ],
   "source": [
    "f1_score(y_true, y_pred, average=\"macro\")"
   ]
  },
  {
   "cell_type": "markdown",
   "metadata": {},
   "source": [
    "### Métriques par entité"
   ]
  },
  {
   "cell_type": "code",
   "execution_count": 37,
   "metadata": {},
   "outputs": [],
   "source": [
    "classes = np.unique(y_true)\n",
    "classes = classes.tolist()\n",
    "report = classification_report(y_true, y_pred, labels=classes)"
   ]
  },
  {
   "cell_type": "code",
   "execution_count": 38,
   "metadata": {},
   "outputs": [],
   "source": [
    "%%capture report_capture --no-stderr\n",
    "print(report)"
   ]
  },
  {
   "cell_type": "code",
   "execution_count": 39,
   "metadata": {},
   "outputs": [
    {
     "name": "stdout",
     "output_type": "stream",
     "text": [
      "               precision    recall  f1-score   support\n",
      "\n",
      "         DATE       1.00      1.00      1.00         1\n",
      "        EMAIL       1.00      1.00      1.00         3\n",
      "FAMILY_STATUS       1.00      1.00      1.00         1\n",
      "         LANG       1.00      1.00      1.00         1\n",
      "          LOC       0.64      0.54      0.58        13\n",
      "            O       0.12      0.20      0.15         5\n",
      "          PER       1.00      0.50      0.67         2\n",
      "      PERIODE       1.00      1.00      1.00        17\n",
      "          TEL       1.00      1.00      1.00         2\n",
      "\n",
      "     accuracy                           0.76        45\n",
      "    macro avg       0.86      0.80      0.82        45\n",
      " weighted avg       0.80      0.76      0.77        45\n",
      "\n",
      "\n"
     ]
    }
   ],
   "source": [
    "print(report_capture.stdout)"
   ]
  },
  {
   "cell_type": "code",
   "execution_count": 43,
   "metadata": {},
   "outputs": [],
   "source": [
    "with open(os.path.join(reports_path, 'classification.txt'), 'w') as report_file:\n",
    "    report_file.write(report_capture.stdout)"
   ]
  },
  {
   "cell_type": "markdown",
   "metadata": {},
   "source": [
    "### Matrice de confusion"
   ]
  },
  {
   "cell_type": "code",
   "execution_count": 55,
   "metadata": {},
   "outputs": [
    {
     "data": {
      "text/plain": [
       "<sklearn.metrics._plot.confusion_matrix.ConfusionMatrixDisplay at 0x7f6f053760d0>"
      ]
     },
     "execution_count": 55,
     "metadata": {},
     "output_type": "execute_result"
    },
    {
     "data": {
      "image/png": "[encoded data removed]",
      "text/plain": [
       "<Figure size 864x864 with 2 Axes>"
      ]
     },
     "metadata": {
      "needs_background": "light"
     },
     "output_type": "display_data"
    }
   ],
   "source": [
    "from sklearn.metrics import confusion_matrix, ConfusionMatrixDisplay\n",
    "\n",
    "matrix = confusion_matrix(y_true, y_pred, labels=classes, normalize='all')\n",
    "disp = ConfusionMatrixDisplay(confusion_matrix=matrix, display_labels=classes)\n",
    "_, ax = plt.subplots(figsize=(12,12))\n",
    "disp.plot(ax=ax)"
   ]
  },
  {
   "cell_type": "markdown",
   "metadata": {},
   "source": [
    "### Erreurs détectées par label"
   ]
  },
  {
   "cell_type": "code",
   "execution_count": 21,
   "metadata": {},
   "outputs": [],
   "source": [
    "regex_list = ['TEL', 'PERIODE', 'EMAIL', 'LANG', 'URL', 'DATE']\n",
    "regex_error_count = 0\n",
    "model_list = ['PER', 'LOC']\n",
    "model_error_count = 0"
   ]
  },
  {
   "cell_type": "code",
   "execution_count": 22,
   "metadata": {},
   "outputs": [],
   "source": [
    "dict_error_regex = {}\n",
    "dict_error_model = {}\n",
    "df_error = df.loc[(df['y_true'] != df['y_pred'])]"
   ]
  },
  {
   "cell_type": "code",
   "execution_count": 23,
   "metadata": {},
   "outputs": [],
   "source": [
    "for item in df['y_true'].unique():\n",
    "    if (((len(df_error.loc[df_error['y_true'] == item]) > 0) | (len(df_error.loc[df_error['y_pred'] == item]) > 0)) & (\n",
    "            item != 'O')):\n",
    "        if (item in regex_list):\n",
    "            regex_error_count = regex_error_count + len(\n",
    "                df_error.loc[(df_error['y_true'] == item) | (df_error['y_pred'] == item)])\n",
    "            dict_error_regex[item] = len(df_error.loc[(df_error['y_true'] == item) | (df_error['y_pred'] == item)])\n",
    "        else:\n",
    "            model_error_count = model_error_count + len(\n",
    "                df_error.loc[(df_error['y_true'] == item) | (df_error['y_pred'] == item)])\n",
    "            dict_error_model[item] = len(df_error.loc[(df_error['y_true'] == item) | (df_error['y_pred'] == item)])"
   ]
  },
  {
   "cell_type": "code",
   "execution_count": 24,
   "metadata": {},
   "outputs": [
    {
     "data": {
      "image/png": "[encoded data removed]",
      "text/plain": [
       "<Figure size 432x288 with 1 Axes>"
      ]
     },
     "metadata": {},
     "output_type": "display_data"
    }
   ],
   "source": [
    "nbr_regex_colors = ['lightcoral'] * len(dict_error_regex.values())\n",
    "nbr_model_colors = ['lightskyblue'] * len(dict_error_model.values())\n",
    "labels = list(dict_error_regex.keys()) + list(dict_error_model.keys())\n",
    "sizes = list(dict_error_regex.values()) + list(dict_error_model.values())\n",
    "colors = nbr_regex_colors + nbr_model_colors\n",
    "explode = [0.1] * len(nbr_regex_colors + nbr_model_colors)\n",
    "plt.pie(sizes, labels=labels, colors=colors, explode=explode,\n",
    "        autopct='%1.1f%%', shadow=True, startangle=140)\n",
    "plt.title('Pourcentage des erreurs détectées par label')\n",
    "plt.axis('equal')\n",
    "plt.legend([\n",
    "    Patch(facecolor='lightcoral'),\n",
    "    Patch(facecolor='lightskyblue')\n",
    "], [\"Erreurs issues des regex\", \"Erreurs issues du modèle\"], bbox_to_anchor=[1.5, 1],\n",
    "    loc='upper right', ncol=1)\n",
    "plt.show()"
   ]
  },
  {
   "cell_type": "code",
   "execution_count": null,
   "metadata": {},
   "outputs": [],
   "source": []
  }
 ],
 "metadata": {
  "kernelspec": {
   "display_name": "Python 3",
   "language": "python",
   "name": "python3"
  },
  "language_info": {
   "codemirror_mode": {
    "name": "ipython",
    "version": 3
   },
   "file_extension": ".py",
   "mimetype": "text/x-python",
   "name": "python",
   "nbconvert_exporter": "python",
   "pygments_lexer": "ipython3",
   "version": "3.8.9"
  }
 },
 "nbformat": 4,
 "nbformat_minor": 4
}
