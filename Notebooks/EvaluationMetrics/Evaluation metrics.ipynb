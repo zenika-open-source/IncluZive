{
 "cells": [
  {
   "cell_type": "code",
   "execution_count": 1,
   "metadata": {},
   "outputs": [],
   "source": [
    "import os\n",
    "import pandas as pd\n",
    "import matplotlib.pyplot as plt"
   ]
  },
  {
   "cell_type": "code",
   "execution_count": 2,
   "metadata": {},
   "outputs": [],
   "source": [
    "path = os.getcwd()\n",
    "files_true = os.listdir(path+'/data_true')\n",
    "files_pred = os.listdir(path+'/data_pred')"
   ]
  },
  {
   "cell_type": "code",
   "execution_count": 3,
   "metadata": {},
   "outputs": [
    {
     "data": {
      "text/plain": [
       "['CV4_true.xlsx', 'CV1_true.xlsx', 'CV6_true.xlsx', 'CV10_true.xlsx']"
      ]
     },
     "execution_count": 3,
     "metadata": {},
     "output_type": "execute_result"
    }
   ],
   "source": [
    "files_true"
   ]
  },
  {
   "cell_type": "code",
   "execution_count": 4,
   "metadata": {},
   "outputs": [
    {
     "data": {
      "text/plain": [
       "['CV4_pred.xlsx', 'CV10_pred.xlsx', 'CV6_pred.xlsx', 'CV1_pred.xlsx']"
      ]
     },
     "execution_count": 4,
     "metadata": {},
     "output_type": "execute_result"
    }
   ],
   "source": [
    "files_pred "
   ]
  },
  {
   "cell_type": "code",
   "execution_count": 5,
   "metadata": {},
   "outputs": [],
   "source": [
    "df_true = pd.DataFrame()\n",
    "for f in files_true:\n",
    "    data = pd.read_excel('data_true/'+f,engine='openpyxl')\n",
    "    df_true = df_true.append(data)"
   ]
  },
  {
   "cell_type": "code",
   "execution_count": 6,
   "metadata": {},
   "outputs": [],
   "source": [
    "df_pred = pd.DataFrame()\n",
    "for f in files_pred:\n",
    "    data = pd.read_excel('data_pred/'+f,engine='openpyxl')\n",
    "    df_pred = df_pred.append(data)"
   ]
  },
  {
   "cell_type": "code",
   "execution_count": 7,
   "metadata": {},
   "outputs": [],
   "source": [
    "df_pred"
   ]
  },
  {
   "cell_type": "code",
   "execution_count": 8,
   "metadata": {},
   "outputs": [],
   "source": [
    "df_true"
   ]
  },
  {
   "cell_type": "code",
   "execution_count": 9,
   "metadata": {},
   "outputs": [
    {
     "data": {
      "text/plain": [
       "(55, 2)"
      ]
     },
     "execution_count": 9,
     "metadata": {},
     "output_type": "execute_result"
    }
   ],
   "source": [
    "df_true.shape"
   ]
  },
  {
   "cell_type": "code",
   "execution_count": 10,
   "metadata": {},
   "outputs": [
    {
     "data": {
      "text/plain": [
       "(43, 2)"
      ]
     },
     "execution_count": 10,
     "metadata": {},
     "output_type": "execute_result"
    }
   ],
   "source": [
    "df_pred.shape"
   ]
  },
  {
   "cell_type": "code",
   "execution_count": 11,
   "metadata": {},
   "outputs": [],
   "source": [
    "df_true.pivot_table(index = ['Entity Text', 'Entity Label'], aggfunc ='size')"
   ]
  },
  {
   "cell_type": "code",
   "execution_count": 12,
   "metadata": {},
   "outputs": [],
   "source": [
    "df_pred.pivot_table(index = ['Entity Text', 'Entity Label'], aggfunc ='size') "
   ]
  },
  {
   "cell_type": "code",
   "execution_count": 13,
   "metadata": {},
   "outputs": [],
   "source": [
    "df_true = df_true.drop_duplicates(subset=None, keep='first', inplace=False)"
   ]
  },
  {
   "cell_type": "code",
   "execution_count": 14,
   "metadata": {},
   "outputs": [
    {
     "data": {
      "text/plain": [
       "(41, 2)"
      ]
     },
     "execution_count": 14,
     "metadata": {},
     "output_type": "execute_result"
    }
   ],
   "source": [
    "df_true.shape"
   ]
  },
  {
   "cell_type": "code",
   "execution_count": 15,
   "metadata": {},
   "outputs": [],
   "source": [
    "df_pred = df_pred.drop_duplicates(subset=None, keep='first', inplace=False)"
   ]
  },
  {
   "cell_type": "code",
   "execution_count": 16,
   "metadata": {},
   "outputs": [
    {
     "data": {
      "text/plain": [
       "(37, 2)"
      ]
     },
     "execution_count": 16,
     "metadata": {},
     "output_type": "execute_result"
    }
   ],
   "source": [
    "df_pred.shape"
   ]
  },
  {
   "cell_type": "markdown",
   "metadata": {},
   "source": [
    "### Métriques globales"
   ]
  },
  {
   "cell_type": "code",
   "execution_count": 17,
   "metadata": {},
   "outputs": [],
   "source": [
    "def true_positive(df_true,df_pred):\n",
    "    return len(pd.merge(df_true, df_pred, how='inner')) "
   ]
  },
  {
   "cell_type": "code",
   "execution_count": 18,
   "metadata": {},
   "outputs": [],
   "source": [
    "def false_nagative(df_true,df_pred):\n",
    "    return len(df_true)-len(pd.merge(df_true, df_pred, how='inner'))"
   ]
  },
  {
   "cell_type": "code",
   "execution_count": 19,
   "metadata": {},
   "outputs": [],
   "source": [
    "def false_positive(df_true,df_pred):\n",
    "    return len(df_pred)-len(pd.merge(df_true, df_pred, how='inner'))"
   ]
  },
  {
   "cell_type": "code",
   "execution_count": 20,
   "metadata": {},
   "outputs": [],
   "source": [
    "def accuracy(tp,tn,fp,fn):\n",
    "    return (tp + tn) / (tp + tn + fp +fn)\n",
    "\n",
    "def recall(tp,fn):\n",
    "    return tp / (tp+fn)\n",
    "\n",
    "def precision(tp,fp):\n",
    "    try:\n",
    "        return  tp / (tp + fp)\n",
    "    except: \n",
    "        print ('Error: division by zero.')\n",
    "\n",
    "def specificity(tn,fp):\n",
    "    return  tn / (tn+fp)\n",
    "\n",
    "def f1_score(precision,recall):\n",
    "    try:\n",
    "        return  2 * precision * recall / (precision + recall)\n",
    "    except: \n",
    "        print ('Error: division by zero.')"
   ]
  },
  {
   "cell_type": "code",
   "execution_count": 21,
   "metadata": {},
   "outputs": [],
   "source": [
    "def confusion_matrix(tp,fp,fn,tn,entity):\n",
    "    fig, ax =plt.subplots(1,1)\n",
    "    data=[[tp,fn],\n",
    "          [fp,tn]]\n",
    "    column_labels=[\"Positive predicted values\", \"Negative predicted values\"]\n",
    "    df=pd.DataFrame(data,columns=column_labels)\n",
    "    ax.axis('tight')\n",
    "    ax.axis('off')\n",
    "    ax.table(cellText=df.values,colLabels=df.columns,rowLabels=[\"Positive actual values\",\"Negative actual values\"],loc=\"center\")\n",
    "    ax.set_title(entity+\" confusion matrix\")\n",
    "    plt.show()"
   ]
  },
  {
   "cell_type": "code",
   "execution_count": 22,
   "metadata": {},
   "outputs": [],
   "source": [
    "tp = true_positive(df_true,df_pred)\n",
    "fp = false_positive(df_true,df_pred)\n",
    "fn = false_nagative(df_true,df_pred)\n",
    "tn = 0"
   ]
  },
  {
   "cell_type": "code",
   "execution_count": 23,
   "metadata": {},
   "outputs": [
    {
     "data": {
      "image/png": "[encoded data removed]",
      "text/plain": [
       "<Figure size 432x288 with 1 Axes>"
      ]
     },
     "metadata": {
      "needs_background": "light"
     },
     "output_type": "display_data"
    },
    {
     "name": "stdout",
     "output_type": "stream",
     "text": [
      "Métriques globales de l'outil : \n",
      " accuracy :  0.5294117647058824\n",
      " recall :  0.6585365853658537\n",
      " precision :  0.7297297297297297\n",
      " f1_score :  0.6923076923076923\n"
     ]
    }
   ],
   "source": [
    "confusion_matrix(tp,fp,fn,tn,'Global')\n",
    "print('Métriques globales de l\\'outil : ')\n",
    "print(' accuracy : ',accuracy(tp,tn,fp,fn))\n",
    "print(' recall : ',recall(tp,fn))\n",
    "print(' precision : ',precision(tp,fp))\n",
    "print(' f1_score : ',f1_score(precision(tp,fp),recall(tp,fn)))"
   ]
  },
  {
   "cell_type": "markdown",
   "metadata": {},
   "source": [
    "### Métriques par entité"
   ]
  },
  {
   "cell_type": "code",
   "execution_count": 24,
   "metadata": {},
   "outputs": [],
   "source": [
    "def entity_metrics(df_true,df_pred,entity):\n",
    "    df_true_entity = df_true[df_true['Entity Label'] == entity]\n",
    "    df_pred_intermediate = pd.merge(df_true_entity, df_pred, on=['Entity Text'], how='inner')\n",
    "    df_pred_intermediate = df_pred_intermediate.drop(columns=[\"Entity Label_x\"])\n",
    "    df_pred_intermediate = df_pred_intermediate.rename(columns = {'Entity Label_y': 'Entity Label'})\n",
    "    df_pred_entity = df_pred[df_pred['Entity Label'] == entity]\n",
    "    return df_true_entity,pd.concat([df_pred_intermediate,df_pred_entity]).drop_duplicates()"
   ]
  },
  {
   "cell_type": "code",
   "execution_count": 25,
   "metadata": {},
   "outputs": [
    {
     "data": {
      "image/png": "[encoded data removed]",
      "text/plain": [
       "<Figure size 432x288 with 1 Axes>"
      ]
     },
     "metadata": {
      "needs_background": "light"
     },
     "output_type": "display_data"
    },
    {
     "name": "stdout",
     "output_type": "stream",
     "text": [
      "Métriques par entité :  TEL\n",
      " accuracy :  1.0\n",
      " recall :  1.0\n",
      " precision :  1.0\n",
      " f1_score :  1.0 \n",
      "\n"
     ]
    },
    {
     "data": {
      "image/png": "[encoded data removed]",
      "text/plain": [
       "<Figure size 432x288 with 1 Axes>"
      ]
     },
     "metadata": {
      "needs_background": "light"
     },
     "output_type": "display_data"
    },
    {
     "name": "stdout",
     "output_type": "stream",
     "text": [
      "Métriques par entité :  PERIODE\n",
      " accuracy :  0.42105263157894735\n",
      " recall :  0.6153846153846154\n",
      " precision :  0.5714285714285714\n",
      " f1_score :  0.5925925925925927 \n",
      "\n"
     ]
    },
    {
     "data": {
      "image/png": "[encoded data removed]",
      "text/plain": [
       "<Figure size 432x288 with 1 Axes>"
      ]
     },
     "metadata": {
      "needs_background": "light"
     },
     "output_type": "display_data"
    },
    {
     "name": "stdout",
     "output_type": "stream",
     "text": [
      "Métriques par entité :  LOC\n",
      " accuracy :  0.25\n",
      " recall :  0.3076923076923077\n",
      " precision :  0.5714285714285714\n",
      " f1_score :  0.4 \n",
      "\n"
     ]
    },
    {
     "data": {
      "image/png": "[encoded data removed]",
      "text/plain": [
       "<Figure size 432x288 with 1 Axes>"
      ]
     },
     "metadata": {
      "needs_background": "light"
     },
     "output_type": "display_data"
    },
    {
     "name": "stdout",
     "output_type": "stream",
     "text": [
      "Métriques par entité :  PER\n",
      " accuracy :  0.8\n",
      " recall :  1.0\n",
      " precision :  0.8\n",
      " f1_score :  0.888888888888889 \n",
      "\n"
     ]
    },
    {
     "data": {
      "image/png": "[encoded data removed]",
      "text/plain": [
       "<Figure size 432x288 with 1 Axes>"
      ]
     },
     "metadata": {
      "needs_background": "light"
     },
     "output_type": "display_data"
    },
    {
     "name": "stdout",
     "output_type": "stream",
     "text": [
      "Métriques par entité :  EMAIL\n",
      " accuracy :  1.0\n",
      " recall :  1.0\n",
      " precision :  1.0\n",
      " f1_score :  1.0 \n",
      "\n"
     ]
    },
    {
     "data": {
      "image/png": "[encoded data removed]",
      "text/plain": [
       "<Figure size 432x288 with 1 Axes>"
      ]
     },
     "metadata": {
      "needs_background": "light"
     },
     "output_type": "display_data"
    },
    {
     "name": "stdout",
     "output_type": "stream",
     "text": [
      "Métriques par entité :  LANG\n",
      " accuracy :  1.0\n",
      " recall :  1.0\n",
      " precision :  1.0\n",
      " f1_score :  1.0 \n",
      "\n"
     ]
    }
   ],
   "source": [
    "for entity in df_true['Entity Label'].unique():\n",
    "    tp_entity = true_positive(entity_metrics(df_true,df_pred,entity)[0],entity_metrics(df_true,df_pred,entity)[1])\n",
    "    fp_entity = false_positive(entity_metrics(df_true,df_pred,entity)[0],entity_metrics(df_true,df_pred,entity)[1])\n",
    "    fn_entity = false_nagative(entity_metrics(df_true,df_pred,entity)[0],entity_metrics(df_true,df_pred,entity)[1])\n",
    "    tn_entity = 0\n",
    "    confusion_matrix(tp_entity,fp_entity,fn_entity,tn_entity, entity)\n",
    "    print('Métriques par entité : ', entity)\n",
    "    print(' accuracy : ',accuracy(tp_entity,tn_entity,fp_entity,fn_entity))\n",
    "    print(' recall : ',recall(tp_entity,fn_entity))\n",
    "    print(' precision : ',precision(tp_entity,fp_entity))\n",
    "    print(' f1_score : ',f1_score(precision(tp_entity,fp_entity),recall(tp_entity,fn_entity)),'\\n')"
   ]
  },
  {
   "cell_type": "code",
   "execution_count": null,
   "metadata": {},
   "outputs": [],
   "source": []
  }
 ],
 "metadata": {
  "kernelspec": {
   "display_name": "Python 3",
   "language": "python",
   "name": "python3"
  },
  "language_info": {
   "codemirror_mode": {
    "name": "ipython",
    "version": 3
   },
   "file_extension": ".py",
   "mimetype": "text/x-python",
   "name": "python",
   "nbconvert_exporter": "python",
   "pygments_lexer": "ipython3",
   "version": "3.7.9"
  }
 },
 "nbformat": 4,
 "nbformat_minor": 4
}
