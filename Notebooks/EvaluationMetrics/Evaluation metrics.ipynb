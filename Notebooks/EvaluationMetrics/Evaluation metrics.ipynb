{
 "cells": [
  {
   "cell_type": "code",
   "execution_count": 1,
   "metadata": {},
   "outputs": [],
   "source": [
    "import os\n",
    "import pandas as pd\n",
    "import numpy as np\n",
    "from sklearn.metrics import f1_score, accuracy_score, recall_score, precision_score, classification_report, multilabel_confusion_matrix\n",
    "import matplotlib.pyplot as plt \n",
    "from matplotlib.patches import Patch\n",
    "%matplotlib inline"
   ]
  },
  {
   "cell_type": "code",
   "execution_count": 2,
   "metadata": {},
   "outputs": [],
   "source": [
    "path = os.getcwd()\n",
    "files_true = os.listdir(path+'/data_true')\n",
    "files_pred = os.listdir(path+'/data_pred')"
   ]
  },
  {
   "cell_type": "code",
   "execution_count": 3,
   "metadata": {},
   "outputs": [],
   "source": [
    "df_true = pd.DataFrame()\n",
    "for f in files_true:\n",
    "    if f.endswith('.xlsx'):\n",
    "        data = pd.read_excel('data_true/'+f,engine='openpyxl')\n",
    "        data=data.drop(['Text'],axis =1,errors='ignore')\n",
    "        df_true = df_true.append(data)"
   ]
  },
  {
   "cell_type": "code",
   "execution_count": 4,
   "metadata": {},
   "outputs": [],
   "source": [
    "df_pred = pd.DataFrame()\n",
    "for f in files_pred:\n",
    "    if (f.endswith('.xlsx')) and (f in files_true):\n",
    "        data = pd.read_excel('data_pred/'+f,engine='openpyxl')\n",
    "        data=data.drop(['Text'],axis =1,errors='ignore')\n",
    "        df_pred = df_pred.append(data)"
   ]
  },
  {
   "cell_type": "code",
   "execution_count": 5,
   "metadata": {},
   "outputs": [],
   "source": [
    "df_true = df_true[df_true['Entity'].notna()]"
   ]
  },
  {
   "cell_type": "code",
   "execution_count": 6,
   "metadata": {},
   "outputs": [
    {
     "data": {
      "text/plain": [
       "(419, 2)"
      ]
     },
     "execution_count": 6,
     "metadata": {},
     "output_type": "execute_result"
    }
   ],
   "source": [
    "df_true.shape"
   ]
  },
  {
   "cell_type": "code",
   "execution_count": 7,
   "metadata": {},
   "outputs": [
    {
     "data": {
      "text/plain": [
       "(325, 2)"
      ]
     },
     "execution_count": 7,
     "metadata": {},
     "output_type": "execute_result"
    }
   ],
   "source": [
    "df_pred.shape"
   ]
  },
  {
   "cell_type": "code",
   "execution_count": 8,
   "metadata": {},
   "outputs": [],
   "source": [
    "df = pd.merge(df_true, df_pred, on=['Entity'], how='outer').drop_duplicates().fillna(\"O\")"
   ]
  },
  {
   "cell_type": "code",
   "execution_count": 9,
   "metadata": {},
   "outputs": [],
   "source": [
    "df.columns = ['Entity','y_true','y_pred']"
   ]
  },
  {
   "cell_type": "code",
   "execution_count": 10,
   "metadata": {},
   "outputs": [
    {
     "data": {
      "text/plain": [
       "(287, 3)"
      ]
     },
     "execution_count": 10,
     "metadata": {},
     "output_type": "execute_result"
    }
   ],
   "source": [
    "df.shape"
   ]
  },
  {
   "cell_type": "code",
   "execution_count": 11,
   "metadata": {},
   "outputs": [],
   "source": [
    "y_true = df.iloc[:,1]"
   ]
  },
  {
   "cell_type": "code",
   "execution_count": 12,
   "metadata": {},
   "outputs": [],
   "source": [
    "y_pred =  df.iloc[:,2]"
   ]
  },
  {
   "cell_type": "markdown",
   "metadata": {},
   "source": [
    "### Métriques globales"
   ]
  },
  {
   "cell_type": "code",
   "execution_count": 13,
   "metadata": {},
   "outputs": [
    {
     "data": {
      "text/plain": [
       "0.5226480836236934"
      ]
     },
     "execution_count": 13,
     "metadata": {},
     "output_type": "execute_result"
    }
   ],
   "source": [
    "accuracy_score(y_true, y_pred)"
   ]
  },
  {
   "cell_type": "code",
   "execution_count": 14,
   "metadata": {},
   "outputs": [
    {
     "data": {
      "text/plain": [
       "0.6872122804731501"
      ]
     },
     "execution_count": 14,
     "metadata": {},
     "output_type": "execute_result"
    }
   ],
   "source": [
    "recall_score(y_true, y_pred, average=\"macro\")"
   ]
  },
  {
   "cell_type": "code",
   "execution_count": 15,
   "metadata": {},
   "outputs": [
    {
     "data": {
      "text/plain": [
       "0.7861472448057814"
      ]
     },
     "execution_count": 15,
     "metadata": {},
     "output_type": "execute_result"
    }
   ],
   "source": [
    "precision_score(y_true, y_pred, average=\"macro\")"
   ]
  },
  {
   "cell_type": "code",
   "execution_count": 16,
   "metadata": {},
   "outputs": [
    {
     "data": {
      "text/plain": [
       "0.726726016492334"
      ]
     },
     "execution_count": 16,
     "metadata": {},
     "output_type": "execute_result"
    }
   ],
   "source": [
    "f1_score(y_true, y_pred,average=\"macro\")"
   ]
  },
  {
   "cell_type": "markdown",
   "metadata": {},
   "source": [
    "### Métriques par entité"
   ]
  },
  {
   "cell_type": "code",
   "execution_count": 17,
   "metadata": {},
   "outputs": [],
   "source": [
    "classes = np.unique(y_true)\n",
    "classes = classes.tolist()"
   ]
  },
  {
   "cell_type": "code",
   "execution_count": 18,
   "metadata": {},
   "outputs": [
    {
     "name": "stdout",
     "output_type": "stream",
     "text": [
      "               precision    recall  f1-score   support\n",
      "\n",
      "         DATE       1.00      1.00      1.00         2\n",
      "        EMAIL       1.00      0.96      0.98        23\n",
      "FAMILY_STATUS       1.00      1.00      1.00         2\n",
      "         LANG       1.00      0.62      0.76        13\n",
      "          LOC       0.67      0.52      0.59       105\n",
      "            O       0.00      0.00      0.00        52\n",
      "          PER       0.74      0.71      0.73        28\n",
      "      PERIODE       0.45      0.55      0.49        33\n",
      "          TEL       1.00      0.85      0.92        20\n",
      "          URL       1.00      0.67      0.80         9\n",
      "\n",
      "     accuracy                           0.52       287\n",
      "    macro avg       0.79      0.69      0.73       287\n",
      " weighted avg       0.61      0.52      0.56       287\n",
      "\n"
     ]
    }
   ],
   "source": [
    "print(classification_report(y_true, y_pred , labels=classes))"
   ]
  },
  {
   "cell_type": "code",
   "execution_count": 19,
   "metadata": {},
   "outputs": [
    {
     "data": {
      "text/plain": [
       "array([[[285,   0],\n",
       "        [  0,   2]],\n",
       "\n",
       "       [[264,   0],\n",
       "        [  1,  22]],\n",
       "\n",
       "       [[285,   0],\n",
       "        [  0,   2]],\n",
       "\n",
       "       [[274,   0],\n",
       "        [  5,   8]],\n",
       "\n",
       "       [[155,  27],\n",
       "        [ 50,  55]],\n",
       "\n",
       "       [[154,  81],\n",
       "        [ 52,   0]],\n",
       "\n",
       "       [[252,   7],\n",
       "        [  8,  20]],\n",
       "\n",
       "       [[232,  22],\n",
       "        [ 15,  18]],\n",
       "\n",
       "       [[267,   0],\n",
       "        [  3,  17]],\n",
       "\n",
       "       [[278,   0],\n",
       "        [  3,   6]]])"
      ]
     },
     "execution_count": 19,
     "metadata": {},
     "output_type": "execute_result"
    }
   ],
   "source": [
    "multilabel_confusion_matrix(y_true, y_pred)"
   ]
  },
  {
   "cell_type": "markdown",
   "metadata": {},
   "source": [
    "### Erreurs détectées par label"
   ]
  },
  {
   "cell_type": "code",
   "execution_count": 20,
   "metadata": {},
   "outputs": [],
   "source": [
    "regex_list = ['TEL','PERIODE','EMAIL','LANG', 'URL', 'DATE']\n",
    "regex_error_count = 0\n",
    "model_list = ['PER','LOC']\n",
    "model_error_count = 0"
   ]
  },
  {
   "cell_type": "code",
   "execution_count": 21,
   "metadata": {},
   "outputs": [],
   "source": [
    "dict_error_regex = {}\n",
    "dict_error_model = {}\n",
    "df_error = df.loc[(df['y_true']!=df['y_pred'])]"
   ]
  },
  {
   "cell_type": "code",
   "execution_count": 22,
   "metadata": {},
   "outputs": [],
   "source": [
    "for item in df['y_true'].unique():\n",
    "    if(((len(df_error.loc[df_error['y_true']==item])>0)|(len(df_error.loc[df_error['y_pred']==item])>0)) & (item!='O') ):      \n",
    "        if(item in regex_list):\n",
    "            regex_error_count = regex_error_count+len(df_error.loc[(df_error['y_true']==item)|(df_error['y_pred']==item)])\n",
    "            dict_error_regex[item] = len(df_error.loc[(df_error['y_true']==item)|(df_error['y_pred']==item)])\n",
    "        else:\n",
    "            model_error_count = model_error_count+len(df_error.loc[(df_error['y_true']==item)|(df_error['y_pred']==item)])\n",
    "            dict_error_model[item] = len(df_error.loc[(df_error['y_true']==item)|(df_error['y_pred']==item)])"
   ]
  },
  {
   "cell_type": "code",
   "execution_count": 23,
   "metadata": {},
   "outputs": [
    {
     "data": {
      "image/png": "[encoded data removed]",
      "text/plain": [
       "<Figure size 432x288 with 1 Axes>"
      ]
     },
     "metadata": {},
     "output_type": "display_data"
    }
   ],
   "source": [
    "nbr_regex_colors = ['lightcoral'] * len(dict_error_regex.values())\n",
    "nbr_model_colors = ['lightskyblue'] * len(dict_error_model.values())\n",
    "labels = list(dict_error_regex.keys())+list(dict_error_model.keys())\n",
    "sizes = list(dict_error_regex.values())+list(dict_error_model.values())\n",
    "colors = nbr_regex_colors+nbr_model_colors\n",
    "explode = [0.1]* len(nbr_regex_colors+nbr_model_colors) \n",
    "plt.pie(sizes, labels=labels, colors=colors, explode=explode ,\n",
    "autopct='%1.1f%%', shadow=True, startangle=140)\n",
    "plt.title('Pourcentage des erreurs détectées par label')\n",
    "plt.axis('equal')\n",
    "plt.legend([\n",
    "        Patch(facecolor='lightcoral'),\n",
    "        Patch(facecolor='lightskyblue')\n",
    "    ], [\"Erreurs issues des regex\", \"Erreurs issues du modèle\"], bbox_to_anchor=[1.5, 1], \n",
    "           loc='upper right', ncol=1)\n",
    "plt.show()"
   ]
  },
  {
   "cell_type": "code",
   "execution_count": null,
   "metadata": {},
   "outputs": [],
   "source": []
  }
 ],
 "metadata": {
  "kernelspec": {
   "display_name": "Python 3",
   "language": "python",
   "name": "python3"
  },
  "language_info": {
   "codemirror_mode": {
    "name": "ipython",
    "version": 3
   },
   "file_extension": ".py",
   "mimetype": "text/x-python",
   "name": "python",
   "nbconvert_exporter": "python",
   "pygments_lexer": "ipython3",
   "version": "3.7.9"
  }
 },
 "nbformat": 4,
 "nbformat_minor": 4
}
