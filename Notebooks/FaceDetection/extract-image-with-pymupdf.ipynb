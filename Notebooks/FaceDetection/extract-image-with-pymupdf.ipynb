{
 "cells": [
  {
   "cell_type": "code",
   "execution_count": 1,
   "metadata": {
    "collapsed": true
   },
   "outputs": [],
   "source": [
    "import fitz"
   ]
  },
  {
   "cell_type": "markdown",
   "source": [
    "Various links which explain how extract image from PDF file with PyMuPDF:\n",
    " - https://pymupdf.readthedocs.io/en/latest/faq.html#how-to-extract-images-non-pdf-documents\n",
    " - https://pymupdf.readthedocs.io/en/latest/faq.html#how-to-extract-images-pdf-documents\n",
    " - https://pymupdf.readthedocs.io/en/latest/functions.html#Document.extractImage\n",
    " - https://github.com/pymupdf/PyMuPDF/wiki/How-to-Convert-Images"
   ],
   "metadata": {
    "collapsed": false,
    "pycharm": {
     "name": "#%% md\n"
    }
   }
  },
  {
   "cell_type": "code",
   "execution_count": 5,
   "outputs": [
    {
     "name": "stdout",
     "output_type": "stream",
     "text": [
      "Images:  6\n"
     ]
    }
   ],
   "source": [
    "file = '../../data/cv-example-with-photo.pdf'\n",
    "doc = fitz.Document(file)\n",
    "page = doc[0]\n",
    "BLOCK_IMAGE = 1\n",
    "\n",
    "images = [block for block in page.getText('dict')['blocks'] if block['type'] == BLOCK_IMAGE]\n",
    "print('Images: ', len(images))"
   ],
   "metadata": {
    "collapsed": false,
    "pycharm": {
     "name": "#%%\n"
    }
   }
  },
  {
   "cell_type": "code",
   "source": [
    "for idx, image_block in enumerate(images):\n",
    "    with open(f'../../data/image_{idx}.' + image_block['ext'], 'wb') as img_file:\n",
    "        img_file.write(image_block['image'])"
   ],
   "metadata": {
    "collapsed": false,
    "pycharm": {
     "name": "#%%\n"
    }
   },
   "execution_count": 6,
   "outputs": []
  },
  {
   "cell_type": "code",
   "execution_count": null,
   "outputs": [],
   "source": [],
   "metadata": {
    "collapsed": false,
    "pycharm": {
     "name": "#%%\n"
    }
   }
  }
 ],
 "metadata": {
  "kernelspec": {
   "display_name": "Python 3",
   "language": "python",
   "name": "python3"
  },
  "language_info": {
   "codemirror_mode": {
    "name": "ipython",
    "version": 2
   },
   "file_extension": ".py",
   "mimetype": "text/x-python",
   "name": "python",
   "nbconvert_exporter": "python",
   "pygments_lexer": "ipython2",
   "version": "2.7.6"
  }
 },
 "nbformat": 4,
 "nbformat_minor": 0
}