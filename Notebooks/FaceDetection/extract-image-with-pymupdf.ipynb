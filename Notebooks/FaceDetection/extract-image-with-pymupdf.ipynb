{
 "cells": [
  {
   "cell_type": "code",
   "execution_count": 1,
   "metadata": {},
   "outputs": [],
   "source": [
    "import fitz\n",
    "import cv2"
   ]
  },
  {
   "cell_type": "markdown",
   "metadata": {
    "pycharm": {
     "name": "#%% md\n"
    }
   },
   "source": [
    "Various links which explain how extract image from PDF file with PyMuPDF:\n",
    " - https://pymupdf.readthedocs.io/en/latest/faq.html#how-to-extract-images-non-pdf-documents\n",
    " - https://pymupdf.readthedocs.io/en/latest/faq.html#how-to-extract-images-pdf-documents\n",
    " - https://pymupdf.readthedocs.io/en/latest/functions.html#Document.extractImage\n",
    " - https://github.com/pymupdf/PyMuPDF/wiki/How-to-Convert-Images"
   ]
  },
  {
   "cell_type": "code",
   "execution_count": 2,
   "metadata": {
    "pycharm": {
     "name": "#%%\n"
    }
   },
   "outputs": [
    {
     "name": "stdout",
     "output_type": "stream",
     "text": [
      "Images:  6\n"
     ]
    }
   ],
   "source": [
    "file = '../../data/cv-example-with-photo.pdf'\n",
    "doc = fitz.Document(file)\n",
    "page = doc[0]\n",
    "BLOCK_IMAGE = 1\n",
    "\n",
    "images = [block for block in page.getText('dict')['blocks'] if block['type'] == BLOCK_IMAGE]\n",
    "print('Images: ', len(images))"
   ]
  },
  {
   "cell_type": "code",
   "execution_count": 3,
   "metadata": {},
   "outputs": [],
   "source": [
    "# Get user supplied values\n",
    "cascPath = \"haarcascade_frontalface_default.xml\""
   ]
  },
  {
   "cell_type": "code",
   "execution_count": 4,
   "metadata": {},
   "outputs": [],
   "source": [
    "# Create the haar cascade\n",
    "faceCascade = cv2.CascadeClassifier(cascPath)"
   ]
  },
  {
   "cell_type": "code",
   "execution_count": 5,
   "metadata": {},
   "outputs": [],
   "source": [
    "def detect_face(image_path):\n",
    "    try:\n",
    "        # Read the image\n",
    "        image = cv2.imread(image_path)\n",
    "        gray = cv2.cvtColor(image, cv2.COLOR_BGR2GRAY)\n",
    "\n",
    "        # Detect faces in the image\n",
    "        faces = faceCascade.detectMultiScale(\n",
    "            gray,\n",
    "            scaleFactor=1.1,\n",
    "            minNeighbors=5,\n",
    "            minSize=(30, 30)\n",
    "            #flags = cv2.CV_HAAR_SCALE_IMAGE\n",
    "        )\n",
    "\n",
    "        if (len(faces) != 0):\n",
    "            return True\n",
    "        else:\n",
    "            return False\n",
    "    \n",
    "    except:\n",
    "        return False"
   ]
  },
  {
   "cell_type": "code",
   "execution_count": 6,
   "metadata": {},
   "outputs": [
    {
     "name": "stdout",
     "output_type": "stream",
     "text": [
      "\" image_0.jpeg \" ne représente pas de visage dans \" cv-example-with-photo.pdf \"\n",
      "\" image_1.jpeg \" ne représente pas de visage dans \" cv-example-with-photo.pdf \"\n",
      "\" image_2.jpeg \" est un visage détecté dans \" cv-example-with-photo.pdf \"\n",
      "\" image_3.png \" ne représente pas de visage dans \" cv-example-with-photo.pdf \"\n",
      "\" image_4.png \" ne représente pas de visage dans \" cv-example-with-photo.pdf \"\n",
      "\" image_5.jpeg \" ne représente pas de visage dans \" cv-example-with-photo.pdf \"\n"
     ]
    }
   ],
   "source": [
    "for idx, image_block in enumerate(images):\n",
    "    with open(f'../../data/image_{idx}.' + image_block['ext'], 'wb') as img_file:\n",
    "        img_file.write(image_block['image'])\n",
    "        if (detect_face(f'../../data/image_{idx}.' + image_block['ext'])) == True :\n",
    "            print('\"',(f'../../data/image_{idx}.' + image_block['ext'])[11:] , '\"', 'est un visage détecté dans \"', file[11:], '\"')\n",
    "        else :\n",
    "            print('\"',(f'../../data/image_{idx}.' + image_block['ext'])[11:] , '\"', 'ne représente pas de visage dans \"', file[11:], '\"')"
   ]
  },
  {
   "cell_type": "code",
   "execution_count": null,
   "metadata": {
    "pycharm": {
     "name": "#%%\n"
    }
   },
   "outputs": [],
   "source": []
  }
 ],
 "metadata": {
  "kernelspec": {
   "display_name": "Python 3",
   "language": "python",
   "name": "python3"
  },
  "language_info": {
   "codemirror_mode": {
    "name": "ipython",
    "version": 3
   },
   "file_extension": ".py",
   "mimetype": "text/x-python",
   "name": "python",
   "nbconvert_exporter": "python",
   "pygments_lexer": "ipython3",
   "version": "3.7.9"
  }
 },
 "nbformat": 4,
 "nbformat_minor": 1
}
